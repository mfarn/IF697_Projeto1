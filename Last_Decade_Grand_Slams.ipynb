{
 "cells": [
  {
   "cell_type": "code",
   "execution_count": 196,
   "metadata": {},
   "outputs": [],
   "source": [
    "import numpy as np\n",
    "import pandas as pd\n",
    "import seaborn as sns\n",
    "from scipy import stats"
   ]
  },
  {
   "cell_type": "code",
   "execution_count": 2,
   "metadata": {},
   "outputs": [],
   "source": [
    "djoko_df = pd.read_csv('/Users/mateus/Downloads/Novak_Stats.csv')\n",
    "nadal_df = pd.read_csv('/Users/mateus/Downloads/Rafael_Stats.csv')\n",
    "federer_df = pd.read_csv('/Users/mateus/Downloads/Roger_Stats.csv')"
   ]
  },
  {
   "cell_type": "code",
   "execution_count": 3,
   "metadata": {},
   "outputs": [
    {
     "data": {
      "text/html": [
       "<div>\n",
       "<style scoped>\n",
       "    .dataframe tbody tr th:only-of-type {\n",
       "        vertical-align: middle;\n",
       "    }\n",
       "\n",
       "    .dataframe tbody tr th {\n",
       "        vertical-align: top;\n",
       "    }\n",
       "\n",
       "    .dataframe thead th {\n",
       "        text-align: right;\n",
       "    }\n",
       "</style>\n",
       "<table border=\"1\" class=\"dataframe\">\n",
       "  <thead>\n",
       "    <tr style=\"text-align: right;\">\n",
       "      <th></th>\n",
       "      <th>Year</th>\n",
       "      <th>Tournament</th>\n",
       "      <th>Surface</th>\n",
       "      <th>Rd</th>\n",
       "      <th>Rk</th>\n",
       "      <th>vRk</th>\n",
       "      <th>Opponent</th>\n",
       "      <th>Result</th>\n",
       "      <th>Score</th>\n",
       "      <th>Dominance_Ratio</th>\n",
       "      <th>...</th>\n",
       "      <th>1st%</th>\n",
       "      <th>2nd%</th>\n",
       "      <th>Break_Points_Saved</th>\n",
       "      <th>Total_Points_Won</th>\n",
       "      <th>Return_Points_Won</th>\n",
       "      <th>Ace_Rate_Against</th>\n",
       "      <th>1st_return%</th>\n",
       "      <th>2nd_return%</th>\n",
       "      <th>Break_Points_Converted</th>\n",
       "      <th>Time</th>\n",
       "    </tr>\n",
       "  </thead>\n",
       "  <tbody>\n",
       "    <tr>\n",
       "      <th>0</th>\n",
       "      <td>2021</td>\n",
       "      <td>Wimbledon</td>\n",
       "      <td>Grass</td>\n",
       "      <td>F</td>\n",
       "      <td>1</td>\n",
       "      <td>9</td>\n",
       "      <td>Matteo Berrettini</td>\n",
       "      <td>W</td>\n",
       "      <td>6-7(4) 6-4 6-4 6-3</td>\n",
       "      <td>1.27</td>\n",
       "      <td>...</td>\n",
       "      <td>0.79</td>\n",
       "      <td>0.53</td>\n",
       "      <td>5/7</td>\n",
       "      <td>0.53</td>\n",
       "      <td>0.40</td>\n",
       "      <td>0.10</td>\n",
       "      <td>0.24</td>\n",
       "      <td>0.62</td>\n",
       "      <td>6/15</td>\n",
       "      <td>3:24</td>\n",
       "    </tr>\n",
       "    <tr>\n",
       "      <th>1</th>\n",
       "      <td>2021</td>\n",
       "      <td>Wimbledon</td>\n",
       "      <td>Grass</td>\n",
       "      <td>SF</td>\n",
       "      <td>1</td>\n",
       "      <td>12</td>\n",
       "      <td>Denis Shapovalov</td>\n",
       "      <td>W</td>\n",
       "      <td>7-6(3) 7-5 7-5</td>\n",
       "      <td>1.17</td>\n",
       "      <td>...</td>\n",
       "      <td>0.81</td>\n",
       "      <td>0.57</td>\n",
       "      <td>10/11</td>\n",
       "      <td>0.53</td>\n",
       "      <td>0.33</td>\n",
       "      <td>0.05</td>\n",
       "      <td>0.21</td>\n",
       "      <td>0.58</td>\n",
       "      <td>3/10</td>\n",
       "      <td>2:44</td>\n",
       "    </tr>\n",
       "    <tr>\n",
       "      <th>2</th>\n",
       "      <td>2021</td>\n",
       "      <td>Wimbledon</td>\n",
       "      <td>Grass</td>\n",
       "      <td>QF</td>\n",
       "      <td>1</td>\n",
       "      <td>48</td>\n",
       "      <td>Marton Fucsovics</td>\n",
       "      <td>W</td>\n",
       "      <td>6-3 6-4 6-4</td>\n",
       "      <td>1.40</td>\n",
       "      <td>...</td>\n",
       "      <td>0.82</td>\n",
       "      <td>0.44</td>\n",
       "      <td>5/6</td>\n",
       "      <td>0.56</td>\n",
       "      <td>0.44</td>\n",
       "      <td>0.05</td>\n",
       "      <td>0.42</td>\n",
       "      <td>0.47</td>\n",
       "      <td>4/14</td>\n",
       "      <td>2:17</td>\n",
       "    </tr>\n",
       "    <tr>\n",
       "      <th>3</th>\n",
       "      <td>2021</td>\n",
       "      <td>Wimbledon</td>\n",
       "      <td>Grass</td>\n",
       "      <td>R16</td>\n",
       "      <td>1</td>\n",
       "      <td>20</td>\n",
       "      <td>Christian Garin</td>\n",
       "      <td>W</td>\n",
       "      <td>6-2 6-4 6-2</td>\n",
       "      <td>2.49</td>\n",
       "      <td>...</td>\n",
       "      <td>0.92</td>\n",
       "      <td>0.64</td>\n",
       "      <td>2/2</td>\n",
       "      <td>0.63</td>\n",
       "      <td>0.48</td>\n",
       "      <td>0.02</td>\n",
       "      <td>0.44</td>\n",
       "      <td>0.54</td>\n",
       "      <td>5/12</td>\n",
       "      <td>1:49</td>\n",
       "    </tr>\n",
       "    <tr>\n",
       "      <th>4</th>\n",
       "      <td>2021</td>\n",
       "      <td>Wimbledon</td>\n",
       "      <td>Grass</td>\n",
       "      <td>R32</td>\n",
       "      <td>1</td>\n",
       "      <td>114</td>\n",
       "      <td>Denis Kudla</td>\n",
       "      <td>W</td>\n",
       "      <td>6-4 6-3 7-6(7)</td>\n",
       "      <td>1.35</td>\n",
       "      <td>...</td>\n",
       "      <td>0.88</td>\n",
       "      <td>0.50</td>\n",
       "      <td>2/4</td>\n",
       "      <td>0.55</td>\n",
       "      <td>0.40</td>\n",
       "      <td>0.06</td>\n",
       "      <td>0.33</td>\n",
       "      <td>0.45</td>\n",
       "      <td>4/10</td>\n",
       "      <td>2:17</td>\n",
       "    </tr>\n",
       "  </tbody>\n",
       "</table>\n",
       "<p>5 rows × 23 columns</p>\n",
       "</div>"
      ],
      "text/plain": [
       "   Year Tournament Surface   Rd  Rk  vRk           Opponent Result  \\\n",
       "0  2021  Wimbledon   Grass    F   1    9  Matteo Berrettini      W   \n",
       "1  2021  Wimbledon   Grass   SF   1   12   Denis Shapovalov      W   \n",
       "2  2021  Wimbledon   Grass   QF   1   48   Marton Fucsovics      W   \n",
       "3  2021  Wimbledon   Grass  R16   1   20    Christian Garin      W   \n",
       "4  2021  Wimbledon   Grass  R32   1  114        Denis Kudla      W   \n",
       "\n",
       "                Score  Dominance_Ratio  ...  1st%  2nd%  Break_Points_Saved  \\\n",
       "0  6-7(4) 6-4 6-4 6-3             1.27  ...  0.79  0.53                 5/7   \n",
       "1      7-6(3) 7-5 7-5             1.17  ...  0.81  0.57               10/11   \n",
       "2         6-3 6-4 6-4             1.40  ...  0.82  0.44                 5/6   \n",
       "3         6-2 6-4 6-2             2.49  ...  0.92  0.64                 2/2   \n",
       "4      6-4 6-3 7-6(7)             1.35  ...  0.88  0.50                 2/4   \n",
       "\n",
       "   Total_Points_Won  Return_Points_Won Ace_Rate_Against  1st_return%  \\\n",
       "0              0.53               0.40             0.10         0.24   \n",
       "1              0.53               0.33             0.05         0.21   \n",
       "2              0.56               0.44             0.05         0.42   \n",
       "3              0.63               0.48             0.02         0.44   \n",
       "4              0.55               0.40             0.06         0.33   \n",
       "\n",
       "   2nd_return%  Break_Points_Converted  Time  \n",
       "0         0.62                    6/15  3:24  \n",
       "1         0.58                    3/10  2:44  \n",
       "2         0.47                    4/14  2:17  \n",
       "3         0.54                    5/12  1:49  \n",
       "4         0.45                    4/10  2:17  \n",
       "\n",
       "[5 rows x 23 columns]"
      ]
     },
     "execution_count": 3,
     "metadata": {},
     "output_type": "execute_result"
    }
   ],
   "source": [
    "djoko_df.head()"
   ]
  },
  {
   "cell_type": "code",
   "execution_count": 4,
   "metadata": {},
   "outputs": [
    {
     "data": {
      "text/html": [
       "<div>\n",
       "<style scoped>\n",
       "    .dataframe tbody tr th:only-of-type {\n",
       "        vertical-align: middle;\n",
       "    }\n",
       "\n",
       "    .dataframe tbody tr th {\n",
       "        vertical-align: top;\n",
       "    }\n",
       "\n",
       "    .dataframe thead th {\n",
       "        text-align: right;\n",
       "    }\n",
       "</style>\n",
       "<table border=\"1\" class=\"dataframe\">\n",
       "  <thead>\n",
       "    <tr style=\"text-align: right;\">\n",
       "      <th></th>\n",
       "      <th>Year</th>\n",
       "      <th>Tournament</th>\n",
       "      <th>Surface</th>\n",
       "      <th>Rd</th>\n",
       "      <th>Rk</th>\n",
       "      <th>vRk</th>\n",
       "      <th>Opponent</th>\n",
       "      <th>Result</th>\n",
       "      <th>Score</th>\n",
       "      <th>Dominance_Ratio</th>\n",
       "      <th>...</th>\n",
       "      <th>1st%</th>\n",
       "      <th>2nd%</th>\n",
       "      <th>Break_Points_Saved</th>\n",
       "      <th>Total_Points_Won</th>\n",
       "      <th>Return_Points_Won</th>\n",
       "      <th>Ace_Rate_Against</th>\n",
       "      <th>1st_return%</th>\n",
       "      <th>2nd_return%</th>\n",
       "      <th>Break_Points_Converted</th>\n",
       "      <th>Time</th>\n",
       "    </tr>\n",
       "  </thead>\n",
       "  <tbody>\n",
       "    <tr>\n",
       "      <th>0</th>\n",
       "      <td>2021</td>\n",
       "      <td>Roland Garros</td>\n",
       "      <td>Clay</td>\n",
       "      <td>SF</td>\n",
       "      <td>3</td>\n",
       "      <td>1</td>\n",
       "      <td>Novak Djokovic</td>\n",
       "      <td>L</td>\n",
       "      <td>3-6 6-3 7-6(4) 6-2</td>\n",
       "      <td>0.86</td>\n",
       "      <td>...</td>\n",
       "      <td>0.59</td>\n",
       "      <td>0.40</td>\n",
       "      <td>14/22</td>\n",
       "      <td>0.47</td>\n",
       "      <td>0.41</td>\n",
       "      <td>0.05</td>\n",
       "      <td>0.35</td>\n",
       "      <td>0.50</td>\n",
       "      <td>6/16</td>\n",
       "      <td>4:11</td>\n",
       "    </tr>\n",
       "    <tr>\n",
       "      <th>1</th>\n",
       "      <td>2021</td>\n",
       "      <td>Roland Garros</td>\n",
       "      <td>Clay</td>\n",
       "      <td>QF</td>\n",
       "      <td>3</td>\n",
       "      <td>10</td>\n",
       "      <td>Diego Sebastian Schwartzman</td>\n",
       "      <td>W</td>\n",
       "      <td>6-3 4-6 6-4 6-0</td>\n",
       "      <td>1.60</td>\n",
       "      <td>...</td>\n",
       "      <td>0.73</td>\n",
       "      <td>0.68</td>\n",
       "      <td>1/4</td>\n",
       "      <td>0.58</td>\n",
       "      <td>0.46</td>\n",
       "      <td>0.03</td>\n",
       "      <td>0.41</td>\n",
       "      <td>0.54</td>\n",
       "      <td>7/14</td>\n",
       "      <td>2:45</td>\n",
       "    </tr>\n",
       "    <tr>\n",
       "      <th>2</th>\n",
       "      <td>2021</td>\n",
       "      <td>Roland Garros</td>\n",
       "      <td>Clay</td>\n",
       "      <td>R16</td>\n",
       "      <td>3</td>\n",
       "      <td>19</td>\n",
       "      <td>Jannik Sinner</td>\n",
       "      <td>W</td>\n",
       "      <td>7-5 6-3 6-0</td>\n",
       "      <td>1.69</td>\n",
       "      <td>...</td>\n",
       "      <td>0.81</td>\n",
       "      <td>0.43</td>\n",
       "      <td>3/7</td>\n",
       "      <td>0.62</td>\n",
       "      <td>0.59</td>\n",
       "      <td>0.00</td>\n",
       "      <td>0.58</td>\n",
       "      <td>0.62</td>\n",
       "      <td>9/14</td>\n",
       "      <td>2:17</td>\n",
       "    </tr>\n",
       "    <tr>\n",
       "      <th>3</th>\n",
       "      <td>2021</td>\n",
       "      <td>Roland Garros</td>\n",
       "      <td>Clay</td>\n",
       "      <td>R32</td>\n",
       "      <td>3</td>\n",
       "      <td>45</td>\n",
       "      <td>Cameron Norrie</td>\n",
       "      <td>W</td>\n",
       "      <td>6-3 6-3 6-3</td>\n",
       "      <td>1.59</td>\n",
       "      <td>...</td>\n",
       "      <td>0.79</td>\n",
       "      <td>0.55</td>\n",
       "      <td>1/3</td>\n",
       "      <td>0.59</td>\n",
       "      <td>0.48</td>\n",
       "      <td>0.03</td>\n",
       "      <td>0.44</td>\n",
       "      <td>0.55</td>\n",
       "      <td>6/12</td>\n",
       "      <td>2:07</td>\n",
       "    </tr>\n",
       "    <tr>\n",
       "      <th>4</th>\n",
       "      <td>2021</td>\n",
       "      <td>Roland Garros</td>\n",
       "      <td>Clay</td>\n",
       "      <td>R64</td>\n",
       "      <td>3</td>\n",
       "      <td>53</td>\n",
       "      <td>Richard Gasquet</td>\n",
       "      <td>W</td>\n",
       "      <td>6-0 7-5 6-2</td>\n",
       "      <td>1.62</td>\n",
       "      <td>...</td>\n",
       "      <td>0.84</td>\n",
       "      <td>0.47</td>\n",
       "      <td>3/4</td>\n",
       "      <td>0.59</td>\n",
       "      <td>0.51</td>\n",
       "      <td>0.02</td>\n",
       "      <td>0.30</td>\n",
       "      <td>0.73</td>\n",
       "      <td>7/16</td>\n",
       "      <td>2:14</td>\n",
       "    </tr>\n",
       "  </tbody>\n",
       "</table>\n",
       "<p>5 rows × 23 columns</p>\n",
       "</div>"
      ],
      "text/plain": [
       "   Year     Tournament Surface   Rd  Rk  vRk                     Opponent  \\\n",
       "0  2021  Roland Garros    Clay   SF   3    1               Novak Djokovic   \n",
       "1  2021  Roland Garros    Clay   QF   3   10  Diego Sebastian Schwartzman   \n",
       "2  2021  Roland Garros    Clay  R16   3   19                Jannik Sinner   \n",
       "3  2021  Roland Garros    Clay  R32   3   45               Cameron Norrie   \n",
       "4  2021  Roland Garros    Clay  R64   3   53              Richard Gasquet   \n",
       "\n",
       "  Result               Score  Dominance_Ratio  ...  1st%  2nd%  \\\n",
       "0      L  3-6 6-3 7-6(4) 6-2             0.86  ...  0.59  0.40   \n",
       "1      W     6-3 4-6 6-4 6-0             1.60  ...  0.73  0.68   \n",
       "2      W         7-5 6-3 6-0             1.69  ...  0.81  0.43   \n",
       "3      W         6-3 6-3 6-3             1.59  ...  0.79  0.55   \n",
       "4      W         6-0 7-5 6-2             1.62  ...  0.84  0.47   \n",
       "\n",
       "   Break_Points_Saved  Total_Points_Won  Return_Points_Won Ace_Rate_Against  \\\n",
       "0               14/22              0.47               0.41             0.05   \n",
       "1                 1/4              0.58               0.46             0.03   \n",
       "2                 3/7              0.62               0.59             0.00   \n",
       "3                 1/3              0.59               0.48             0.03   \n",
       "4                 3/4              0.59               0.51             0.02   \n",
       "\n",
       "   1st_return%  2nd_return%  Break_Points_Converted  Time  \n",
       "0         0.35         0.50                    6/16  4:11  \n",
       "1         0.41         0.54                    7/14  2:45  \n",
       "2         0.58         0.62                    9/14  2:17  \n",
       "3         0.44         0.55                    6/12  2:07  \n",
       "4         0.30         0.73                    7/16  2:14  \n",
       "\n",
       "[5 rows x 23 columns]"
      ]
     },
     "execution_count": 4,
     "metadata": {},
     "output_type": "execute_result"
    }
   ],
   "source": [
    "nadal_df.head()"
   ]
  },
  {
   "cell_type": "code",
   "execution_count": 5,
   "metadata": {},
   "outputs": [
    {
     "data": {
      "text/html": [
       "<div>\n",
       "<style scoped>\n",
       "    .dataframe tbody tr th:only-of-type {\n",
       "        vertical-align: middle;\n",
       "    }\n",
       "\n",
       "    .dataframe tbody tr th {\n",
       "        vertical-align: top;\n",
       "    }\n",
       "\n",
       "    .dataframe thead th {\n",
       "        text-align: right;\n",
       "    }\n",
       "</style>\n",
       "<table border=\"1\" class=\"dataframe\">\n",
       "  <thead>\n",
       "    <tr style=\"text-align: right;\">\n",
       "      <th></th>\n",
       "      <th>Year</th>\n",
       "      <th>Tournament</th>\n",
       "      <th>Surface</th>\n",
       "      <th>Rd</th>\n",
       "      <th>Rk</th>\n",
       "      <th>vRk</th>\n",
       "      <th>Opponent</th>\n",
       "      <th>Result</th>\n",
       "      <th>Score</th>\n",
       "      <th>Dominance_Ratio</th>\n",
       "      <th>...</th>\n",
       "      <th>1st%</th>\n",
       "      <th>2nd%</th>\n",
       "      <th>Break_Points_Saved</th>\n",
       "      <th>Total_Points_Won</th>\n",
       "      <th>Return_Points_Won</th>\n",
       "      <th>Ace_Rate_Against</th>\n",
       "      <th>1st_return%</th>\n",
       "      <th>2nd_return%</th>\n",
       "      <th>Break_Points_Converted</th>\n",
       "      <th>Time</th>\n",
       "    </tr>\n",
       "  </thead>\n",
       "  <tbody>\n",
       "    <tr>\n",
       "      <th>0</th>\n",
       "      <td>2021</td>\n",
       "      <td>Wimbledon</td>\n",
       "      <td>Grass</td>\n",
       "      <td>QF</td>\n",
       "      <td>8</td>\n",
       "      <td>18</td>\n",
       "      <td>Hubert Hurkacz</td>\n",
       "      <td>L</td>\n",
       "      <td>6-3 7-6(4) 6-0</td>\n",
       "      <td>0.68</td>\n",
       "      <td>...</td>\n",
       "      <td>0.67</td>\n",
       "      <td>0.33</td>\n",
       "      <td>10/15</td>\n",
       "      <td>0.43</td>\n",
       "      <td>0.31</td>\n",
       "      <td>0.11</td>\n",
       "      <td>0.21</td>\n",
       "      <td>0.44</td>\n",
       "      <td>1/4</td>\n",
       "      <td>1:49</td>\n",
       "    </tr>\n",
       "    <tr>\n",
       "      <th>1</th>\n",
       "      <td>2021</td>\n",
       "      <td>Wimbledon</td>\n",
       "      <td>Grass</td>\n",
       "      <td>R16</td>\n",
       "      <td>8</td>\n",
       "      <td>27</td>\n",
       "      <td>Lorenzo Sonego</td>\n",
       "      <td>W</td>\n",
       "      <td>7-5 6-4 6-2</td>\n",
       "      <td>1.58</td>\n",
       "      <td>...</td>\n",
       "      <td>0.79</td>\n",
       "      <td>0.65</td>\n",
       "      <td>2/3</td>\n",
       "      <td>0.55</td>\n",
       "      <td>0.43</td>\n",
       "      <td>0.04</td>\n",
       "      <td>0.34</td>\n",
       "      <td>0.56</td>\n",
       "      <td>5/15</td>\n",
       "      <td>2:11</td>\n",
       "    </tr>\n",
       "    <tr>\n",
       "      <th>2</th>\n",
       "      <td>2021</td>\n",
       "      <td>Wimbledon</td>\n",
       "      <td>Grass</td>\n",
       "      <td>R32</td>\n",
       "      <td>8</td>\n",
       "      <td>34</td>\n",
       "      <td>Cameron Norrie</td>\n",
       "      <td>W</td>\n",
       "      <td>6-4 6-4 5-7 6-4</td>\n",
       "      <td>1.33</td>\n",
       "      <td>...</td>\n",
       "      <td>0.74</td>\n",
       "      <td>0.66</td>\n",
       "      <td>2/4</td>\n",
       "      <td>0.54</td>\n",
       "      <td>0.39</td>\n",
       "      <td>0.09</td>\n",
       "      <td>0.32</td>\n",
       "      <td>0.51</td>\n",
       "      <td>4/11</td>\n",
       "      <td>2:35</td>\n",
       "    </tr>\n",
       "    <tr>\n",
       "      <th>3</th>\n",
       "      <td>2021</td>\n",
       "      <td>Wimbledon</td>\n",
       "      <td>Grass</td>\n",
       "      <td>R64</td>\n",
       "      <td>8</td>\n",
       "      <td>56</td>\n",
       "      <td>Richard Gasquet</td>\n",
       "      <td>W</td>\n",
       "      <td>7-6(1) 6-1 6-4</td>\n",
       "      <td>1.61</td>\n",
       "      <td>...</td>\n",
       "      <td>0.84</td>\n",
       "      <td>0.58</td>\n",
       "      <td>5/5</td>\n",
       "      <td>0.58</td>\n",
       "      <td>0.41</td>\n",
       "      <td>0.03</td>\n",
       "      <td>0.35</td>\n",
       "      <td>0.49</td>\n",
       "      <td>3/6</td>\n",
       "      <td>1:51</td>\n",
       "    </tr>\n",
       "    <tr>\n",
       "      <th>4</th>\n",
       "      <td>2021</td>\n",
       "      <td>Wimbledon</td>\n",
       "      <td>Grass</td>\n",
       "      <td>R128</td>\n",
       "      <td>8</td>\n",
       "      <td>41</td>\n",
       "      <td>Adrian Mannarino</td>\n",
       "      <td>W</td>\n",
       "      <td>6-4 6-7(3) 3-6 6-2 RET</td>\n",
       "      <td>1.16</td>\n",
       "      <td>...</td>\n",
       "      <td>0.74</td>\n",
       "      <td>0.61</td>\n",
       "      <td>6/8</td>\n",
       "      <td>0.51</td>\n",
       "      <td>0.36</td>\n",
       "      <td>0.04</td>\n",
       "      <td>0.24</td>\n",
       "      <td>0.57</td>\n",
       "      <td>4/13</td>\n",
       "      <td>2:44</td>\n",
       "    </tr>\n",
       "  </tbody>\n",
       "</table>\n",
       "<p>5 rows × 23 columns</p>\n",
       "</div>"
      ],
      "text/plain": [
       "   Year Tournament Surface    Rd  Rk  vRk          Opponent Result  \\\n",
       "0  2021  Wimbledon   Grass    QF   8   18    Hubert Hurkacz      L   \n",
       "1  2021  Wimbledon   Grass   R16   8   27    Lorenzo Sonego      W   \n",
       "2  2021  Wimbledon   Grass   R32   8   34    Cameron Norrie      W   \n",
       "3  2021  Wimbledon   Grass   R64   8   56   Richard Gasquet      W   \n",
       "4  2021  Wimbledon   Grass  R128   8   41  Adrian Mannarino      W   \n",
       "\n",
       "                    Score  Dominance_Ratio  ...  1st%  2nd%  \\\n",
       "0          6-3 7-6(4) 6-0             0.68  ...  0.67  0.33   \n",
       "1             7-5 6-4 6-2             1.58  ...  0.79  0.65   \n",
       "2         6-4 6-4 5-7 6-4             1.33  ...  0.74  0.66   \n",
       "3          7-6(1) 6-1 6-4             1.61  ...  0.84  0.58   \n",
       "4  6-4 6-7(3) 3-6 6-2 RET             1.16  ...  0.74  0.61   \n",
       "\n",
       "   Break_Points_Saved  Total_Points_Won  Return_Points_Won Ace_Rate_Against  \\\n",
       "0               10/15              0.43               0.31             0.11   \n",
       "1                 2/3              0.55               0.43             0.04   \n",
       "2                 2/4              0.54               0.39             0.09   \n",
       "3                 5/5              0.58               0.41             0.03   \n",
       "4                 6/8              0.51               0.36             0.04   \n",
       "\n",
       "   1st_return%  2nd_return%  Break_Points_Converted  Time  \n",
       "0         0.21         0.44                     1/4  1:49  \n",
       "1         0.34         0.56                    5/15  2:11  \n",
       "2         0.32         0.51                    4/11  2:35  \n",
       "3         0.35         0.49                     3/6  1:51  \n",
       "4         0.24         0.57                    4/13  2:44  \n",
       "\n",
       "[5 rows x 23 columns]"
      ]
     },
     "execution_count": 5,
     "metadata": {},
     "output_type": "execute_result"
    }
   ],
   "source": [
    "federer_df.head()"
   ]
  },
  {
   "cell_type": "markdown",
   "metadata": {},
   "source": [
    "<h1> Pré-Processamento </h1>"
   ]
  },
  {
   "cell_type": "code",
   "execution_count": 6,
   "metadata": {},
   "outputs": [
    {
     "data": {
      "text/plain": [
       "Year                      0\n",
       "Tournament                0\n",
       "Surface                   0\n",
       "Rd                        0\n",
       "Rk                        0\n",
       "vRk                       0\n",
       "Opponent                  0\n",
       "Result                    0\n",
       "Score                     0\n",
       "Dominance_Ratio           1\n",
       "Ace_Rate                  1\n",
       "Double_Fault_Rate         1\n",
       "1st_In                    1\n",
       "1st%                      1\n",
       "2nd%                      1\n",
       "Break_Points_Saved        1\n",
       "Total_Points_Won          1\n",
       "Return_Points_Won         1\n",
       "Ace_Rate_Against          1\n",
       "1st_return%               1\n",
       "2nd_return%               1\n",
       "Break_Points_Converted    1\n",
       "Time                      1\n",
       "dtype: int64"
      ]
     },
     "execution_count": 6,
     "metadata": {},
     "output_type": "execute_result"
    }
   ],
   "source": [
    "djoko_df.isnull().sum()"
   ]
  },
  {
   "cell_type": "code",
   "execution_count": 7,
   "metadata": {},
   "outputs": [
    {
     "data": {
      "text/plain": [
       "Year                      0\n",
       "Tournament                0\n",
       "Surface                   0\n",
       "Rd                        0\n",
       "Rk                        0\n",
       "vRk                       0\n",
       "Opponent                  0\n",
       "Result                    0\n",
       "Score                     0\n",
       "Dominance_Ratio           2\n",
       "Ace_Rate                  2\n",
       "Double_Fault_Rate         2\n",
       "1st_In                    2\n",
       "1st%                      2\n",
       "2nd%                      2\n",
       "Break_Points_Saved        2\n",
       "Total_Points_Won          2\n",
       "Return_Points_Won         2\n",
       "Ace_Rate_Against          2\n",
       "1st_return%               2\n",
       "2nd_return%               2\n",
       "Break_Points_Converted    2\n",
       "Time                      2\n",
       "dtype: int64"
      ]
     },
     "execution_count": 7,
     "metadata": {},
     "output_type": "execute_result"
    }
   ],
   "source": [
    "nadal_df.isnull().sum()"
   ]
  },
  {
   "cell_type": "code",
   "execution_count": 8,
   "metadata": {},
   "outputs": [
    {
     "data": {
      "text/plain": [
       "Year                      0\n",
       "Tournament                0\n",
       "Surface                   0\n",
       "Rd                        0\n",
       "Rk                        0\n",
       "vRk                       0\n",
       "Opponent                  0\n",
       "Result                    0\n",
       "Score                     0\n",
       "Dominance_Ratio           3\n",
       "Ace_Rate                  3\n",
       "Double_Fault_Rate         3\n",
       "1st_In                    3\n",
       "1st%                      3\n",
       "2nd%                      3\n",
       "Break_Points_Saved        3\n",
       "Total_Points_Won          3\n",
       "Return_Points_Won         3\n",
       "Ace_Rate_Against          3\n",
       "1st_return%               3\n",
       "2nd_return%               3\n",
       "Break_Points_Converted    3\n",
       "Time                      3\n",
       "dtype: int64"
      ]
     },
     "execution_count": 8,
     "metadata": {},
     "output_type": "execute_result"
    }
   ],
   "source": [
    "federer_df.isnull().sum()"
   ]
  },
  {
   "cell_type": "code",
   "execution_count": 9,
   "metadata": {},
   "outputs": [
    {
     "data": {
      "text/html": [
       "<div>\n",
       "<style scoped>\n",
       "    .dataframe tbody tr th:only-of-type {\n",
       "        vertical-align: middle;\n",
       "    }\n",
       "\n",
       "    .dataframe tbody tr th {\n",
       "        vertical-align: top;\n",
       "    }\n",
       "\n",
       "    .dataframe thead th {\n",
       "        text-align: right;\n",
       "    }\n",
       "</style>\n",
       "<table border=\"1\" class=\"dataframe\">\n",
       "  <thead>\n",
       "    <tr style=\"text-align: right;\">\n",
       "      <th></th>\n",
       "      <th>Year</th>\n",
       "      <th>Tournament</th>\n",
       "      <th>Surface</th>\n",
       "      <th>Rd</th>\n",
       "      <th>Rk</th>\n",
       "      <th>vRk</th>\n",
       "      <th>Opponent</th>\n",
       "      <th>Result</th>\n",
       "      <th>Score</th>\n",
       "      <th>Dominance_Ratio</th>\n",
       "      <th>...</th>\n",
       "      <th>1st%</th>\n",
       "      <th>2nd%</th>\n",
       "      <th>Break_Points_Saved</th>\n",
       "      <th>Total_Points_Won</th>\n",
       "      <th>Return_Points_Won</th>\n",
       "      <th>Ace_Rate_Against</th>\n",
       "      <th>1st_return%</th>\n",
       "      <th>2nd_return%</th>\n",
       "      <th>Break_Points_Converted</th>\n",
       "      <th>Time</th>\n",
       "    </tr>\n",
       "  </thead>\n",
       "  <tbody>\n",
       "    <tr>\n",
       "      <th>103</th>\n",
       "      <td>2016</td>\n",
       "      <td>US Open</td>\n",
       "      <td>Hard</td>\n",
       "      <td>R64</td>\n",
       "      <td>1</td>\n",
       "      <td>49</td>\n",
       "      <td>Jiri Vesely</td>\n",
       "      <td>W</td>\n",
       "      <td>W/O</td>\n",
       "      <td>NaN</td>\n",
       "      <td>...</td>\n",
       "      <td>NaN</td>\n",
       "      <td>NaN</td>\n",
       "      <td>NaN</td>\n",
       "      <td>NaN</td>\n",
       "      <td>NaN</td>\n",
       "      <td>NaN</td>\n",
       "      <td>NaN</td>\n",
       "      <td>NaN</td>\n",
       "      <td>NaN</td>\n",
       "      <td>NaN</td>\n",
       "    </tr>\n",
       "  </tbody>\n",
       "</table>\n",
       "<p>1 rows × 23 columns</p>\n",
       "</div>"
      ],
      "text/plain": [
       "     Year Tournament Surface   Rd  Rk  vRk     Opponent Result Score  \\\n",
       "103  2016    US Open    Hard  R64   1   49  Jiri Vesely      W   W/O   \n",
       "\n",
       "     Dominance_Ratio  ...  1st%  2nd%  Break_Points_Saved  Total_Points_Won  \\\n",
       "103              NaN  ...   NaN   NaN                 NaN               NaN   \n",
       "\n",
       "     Return_Points_Won Ace_Rate_Against  1st_return%  2nd_return%  \\\n",
       "103                NaN              NaN          NaN          NaN   \n",
       "\n",
       "     Break_Points_Converted  Time  \n",
       "103                     NaN   NaN  \n",
       "\n",
       "[1 rows x 23 columns]"
      ]
     },
     "execution_count": 9,
     "metadata": {},
     "output_type": "execute_result"
    }
   ],
   "source": [
    "djoko_df[djoko_df['Dominance_Ratio'].isnull()]"
   ]
  },
  {
   "cell_type": "code",
   "execution_count": 10,
   "metadata": {},
   "outputs": [
    {
     "data": {
      "text/html": [
       "<div>\n",
       "<style scoped>\n",
       "    .dataframe tbody tr th:only-of-type {\n",
       "        vertical-align: middle;\n",
       "    }\n",
       "\n",
       "    .dataframe tbody tr th {\n",
       "        vertical-align: top;\n",
       "    }\n",
       "\n",
       "    .dataframe thead th {\n",
       "        text-align: right;\n",
       "    }\n",
       "</style>\n",
       "<table border=\"1\" class=\"dataframe\">\n",
       "  <thead>\n",
       "    <tr style=\"text-align: right;\">\n",
       "      <th></th>\n",
       "      <th>Year</th>\n",
       "      <th>Tournament</th>\n",
       "      <th>Surface</th>\n",
       "      <th>Rd</th>\n",
       "      <th>Rk</th>\n",
       "      <th>vRk</th>\n",
       "      <th>Opponent</th>\n",
       "      <th>Result</th>\n",
       "      <th>Score</th>\n",
       "      <th>Dominance_Ratio</th>\n",
       "      <th>...</th>\n",
       "      <th>1st%</th>\n",
       "      <th>2nd%</th>\n",
       "      <th>Break_Points_Saved</th>\n",
       "      <th>Total_Points_Won</th>\n",
       "      <th>Return_Points_Won</th>\n",
       "      <th>Ace_Rate_Against</th>\n",
       "      <th>1st_return%</th>\n",
       "      <th>2nd_return%</th>\n",
       "      <th>Break_Points_Converted</th>\n",
       "      <th>Time</th>\n",
       "    </tr>\n",
       "  </thead>\n",
       "  <tbody>\n",
       "    <tr>\n",
       "      <th>28</th>\n",
       "      <td>2019</td>\n",
       "      <td>US Open</td>\n",
       "      <td>Hard</td>\n",
       "      <td>R64</td>\n",
       "      <td>2</td>\n",
       "      <td>203</td>\n",
       "      <td>Thanasi Kokkinakis</td>\n",
       "      <td>W</td>\n",
       "      <td>W/O</td>\n",
       "      <td>NaN</td>\n",
       "      <td>...</td>\n",
       "      <td>NaN</td>\n",
       "      <td>NaN</td>\n",
       "      <td>NaN</td>\n",
       "      <td>NaN</td>\n",
       "      <td>NaN</td>\n",
       "      <td>NaN</td>\n",
       "      <td>NaN</td>\n",
       "      <td>NaN</td>\n",
       "      <td>NaN</td>\n",
       "      <td>NaN</td>\n",
       "    </tr>\n",
       "    <tr>\n",
       "      <th>103</th>\n",
       "      <td>2016</td>\n",
       "      <td>Roland Garros</td>\n",
       "      <td>Clay</td>\n",
       "      <td>R32</td>\n",
       "      <td>5</td>\n",
       "      <td>56</td>\n",
       "      <td>Marcel Granollers</td>\n",
       "      <td>L</td>\n",
       "      <td>W/O</td>\n",
       "      <td>NaN</td>\n",
       "      <td>...</td>\n",
       "      <td>NaN</td>\n",
       "      <td>NaN</td>\n",
       "      <td>NaN</td>\n",
       "      <td>NaN</td>\n",
       "      <td>NaN</td>\n",
       "      <td>NaN</td>\n",
       "      <td>NaN</td>\n",
       "      <td>NaN</td>\n",
       "      <td>NaN</td>\n",
       "      <td>NaN</td>\n",
       "    </tr>\n",
       "  </tbody>\n",
       "</table>\n",
       "<p>2 rows × 23 columns</p>\n",
       "</div>"
      ],
      "text/plain": [
       "     Year     Tournament Surface   Rd  Rk  vRk            Opponent Result  \\\n",
       "28   2019        US Open    Hard  R64   2  203  Thanasi Kokkinakis      W   \n",
       "103  2016  Roland Garros    Clay  R32   5   56   Marcel Granollers      L   \n",
       "\n",
       "    Score  Dominance_Ratio  ...  1st%  2nd%  Break_Points_Saved  \\\n",
       "28    W/O              NaN  ...   NaN   NaN                 NaN   \n",
       "103   W/O              NaN  ...   NaN   NaN                 NaN   \n",
       "\n",
       "     Total_Points_Won  Return_Points_Won Ace_Rate_Against  1st_return%  \\\n",
       "28                NaN                NaN              NaN          NaN   \n",
       "103               NaN                NaN              NaN          NaN   \n",
       "\n",
       "     2nd_return%  Break_Points_Converted  Time  \n",
       "28           NaN                     NaN   NaN  \n",
       "103          NaN                     NaN   NaN  \n",
       "\n",
       "[2 rows x 23 columns]"
      ]
     },
     "execution_count": 10,
     "metadata": {},
     "output_type": "execute_result"
    }
   ],
   "source": [
    "nadal_df[nadal_df['Dominance_Ratio'].isnull()]"
   ]
  },
  {
   "cell_type": "code",
   "execution_count": 11,
   "metadata": {},
   "outputs": [
    {
     "data": {
      "text/html": [
       "<div>\n",
       "<style scoped>\n",
       "    .dataframe tbody tr th:only-of-type {\n",
       "        vertical-align: middle;\n",
       "    }\n",
       "\n",
       "    .dataframe tbody tr th {\n",
       "        vertical-align: top;\n",
       "    }\n",
       "\n",
       "    .dataframe thead th {\n",
       "        text-align: right;\n",
       "    }\n",
       "</style>\n",
       "<table border=\"1\" class=\"dataframe\">\n",
       "  <thead>\n",
       "    <tr style=\"text-align: right;\">\n",
       "      <th></th>\n",
       "      <th>Year</th>\n",
       "      <th>Tournament</th>\n",
       "      <th>Surface</th>\n",
       "      <th>Rd</th>\n",
       "      <th>Rk</th>\n",
       "      <th>vRk</th>\n",
       "      <th>Opponent</th>\n",
       "      <th>Result</th>\n",
       "      <th>Score</th>\n",
       "      <th>Dominance_Ratio</th>\n",
       "      <th>...</th>\n",
       "      <th>1st%</th>\n",
       "      <th>2nd%</th>\n",
       "      <th>Break_Points_Saved</th>\n",
       "      <th>Total_Points_Won</th>\n",
       "      <th>Return_Points_Won</th>\n",
       "      <th>Ace_Rate_Against</th>\n",
       "      <th>1st_return%</th>\n",
       "      <th>2nd_return%</th>\n",
       "      <th>Break_Points_Converted</th>\n",
       "      <th>Time</th>\n",
       "    </tr>\n",
       "  </thead>\n",
       "  <tbody>\n",
       "    <tr>\n",
       "      <th>5</th>\n",
       "      <td>2021</td>\n",
       "      <td>Roland Garros</td>\n",
       "      <td>Clay</td>\n",
       "      <td>R16</td>\n",
       "      <td>8</td>\n",
       "      <td>9</td>\n",
       "      <td>Matteo Berrettini</td>\n",
       "      <td>L</td>\n",
       "      <td>W/O</td>\n",
       "      <td>NaN</td>\n",
       "      <td>...</td>\n",
       "      <td>NaN</td>\n",
       "      <td>NaN</td>\n",
       "      <td>NaN</td>\n",
       "      <td>NaN</td>\n",
       "      <td>NaN</td>\n",
       "      <td>NaN</td>\n",
       "      <td>NaN</td>\n",
       "      <td>NaN</td>\n",
       "      <td>NaN</td>\n",
       "      <td>NaN</td>\n",
       "    </tr>\n",
       "    <tr>\n",
       "      <th>147</th>\n",
       "      <td>2012</td>\n",
       "      <td>US Open</td>\n",
       "      <td>Hard</td>\n",
       "      <td>R16</td>\n",
       "      <td>1</td>\n",
       "      <td>25</td>\n",
       "      <td>Mardy Fish</td>\n",
       "      <td>W</td>\n",
       "      <td>W/O</td>\n",
       "      <td>NaN</td>\n",
       "      <td>...</td>\n",
       "      <td>NaN</td>\n",
       "      <td>NaN</td>\n",
       "      <td>NaN</td>\n",
       "      <td>NaN</td>\n",
       "      <td>NaN</td>\n",
       "      <td>NaN</td>\n",
       "      <td>NaN</td>\n",
       "      <td>NaN</td>\n",
       "      <td>NaN</td>\n",
       "      <td>NaN</td>\n",
       "    </tr>\n",
       "    <tr>\n",
       "      <th>168</th>\n",
       "      <td>2012</td>\n",
       "      <td>Australian Open</td>\n",
       "      <td>Hard</td>\n",
       "      <td>R64</td>\n",
       "      <td>3</td>\n",
       "      <td>93</td>\n",
       "      <td>Andreas Beck</td>\n",
       "      <td>W</td>\n",
       "      <td>W/O</td>\n",
       "      <td>NaN</td>\n",
       "      <td>...</td>\n",
       "      <td>NaN</td>\n",
       "      <td>NaN</td>\n",
       "      <td>NaN</td>\n",
       "      <td>NaN</td>\n",
       "      <td>NaN</td>\n",
       "      <td>NaN</td>\n",
       "      <td>NaN</td>\n",
       "      <td>NaN</td>\n",
       "      <td>NaN</td>\n",
       "      <td>NaN</td>\n",
       "    </tr>\n",
       "  </tbody>\n",
       "</table>\n",
       "<p>3 rows × 23 columns</p>\n",
       "</div>"
      ],
      "text/plain": [
       "     Year       Tournament Surface   Rd  Rk  vRk           Opponent Result  \\\n",
       "5    2021    Roland Garros    Clay  R16   8    9  Matteo Berrettini      L   \n",
       "147  2012          US Open    Hard  R16   1   25         Mardy Fish      W   \n",
       "168  2012  Australian Open    Hard  R64   3   93       Andreas Beck      W   \n",
       "\n",
       "    Score  Dominance_Ratio  ...  1st%  2nd%  Break_Points_Saved  \\\n",
       "5     W/O              NaN  ...   NaN   NaN                 NaN   \n",
       "147   W/O              NaN  ...   NaN   NaN                 NaN   \n",
       "168   W/O              NaN  ...   NaN   NaN                 NaN   \n",
       "\n",
       "     Total_Points_Won  Return_Points_Won Ace_Rate_Against  1st_return%  \\\n",
       "5                 NaN                NaN              NaN          NaN   \n",
       "147               NaN                NaN              NaN          NaN   \n",
       "168               NaN                NaN              NaN          NaN   \n",
       "\n",
       "     2nd_return%  Break_Points_Converted  Time  \n",
       "5            NaN                     NaN   NaN  \n",
       "147          NaN                     NaN   NaN  \n",
       "168          NaN                     NaN   NaN  \n",
       "\n",
       "[3 rows x 23 columns]"
      ]
     },
     "execution_count": 11,
     "metadata": {},
     "output_type": "execute_result"
    }
   ],
   "source": [
    "federer_df[federer_df['Dominance_Ratio'].isnull()]"
   ]
  },
  {
   "cell_type": "code",
   "execution_count": 12,
   "metadata": {},
   "outputs": [],
   "source": [
    "# Os jogos com valores nulos correspondem à partidas que acabaram em W/O, que não tem razão de entrar para as estatísticas\n",
    "\n",
    "djoko_df = djoko_df.dropna(how='any',axis=0) \n",
    "nadal_df = nadal_df.dropna(how='any',axis=0) \n",
    "federer_df = federer_df.dropna(how='any',axis=0) "
   ]
  },
  {
   "cell_type": "code",
   "execution_count": 13,
   "metadata": {},
   "outputs": [],
   "source": [
    "# Temos 3 tabelas contendo informações sobre os desempenhos em Grand Slams dos 3 melhores tenistas desse periodo\n",
    "# Novak Djokovic, Rafael Nadal e Roger Federer. As colunas das tabelas contém os seguintes dados\n",
    "# Year - Ano do torneio\n",
    "# Tournament - Nome do torneio\n",
    "# Surface - Superfície em que o torneio foi realizado\n",
    "# Rd - Etapa em que o jogo aconteceu\n",
    "# Rk - Ranking do jogador nesse torneio\n",
    "# vRk - Ranking do oponente da partida\n",
    "# Opponent - Oponente da partida\n",
    "# Result - W (Vitória), L (Derrota)\n",
    "# Score - Placar da partida\n",
    "# Dominance_Ratio - % Pontos ganhos devolvendo o saque divido por % Pontos perdidos sacando\n",
    "# Ace_Rate - % de Aces\n",
    "# Double_Fault_Rate - % Duplas Faltas\n",
    "# 1st_in - % Primeiros saques bons\n",
    "# 1st% - % Pontos ganhos com primeiro saque\n",
    "# 2nd% - % Pontos ganhos com segundo saque\n",
    "# Break_Points_Saved - Numero de break points salvos pelo total\n",
    "# Total_Points_Won - % Pontos ganhos\n",
    "# Return_Points_Won - % Pontos ganhos devolvendo saque\n",
    "# Ace_Rate_Against - % Aces recebidos\n",
    "# 1st_return% - % Pontos ganhos devolvendo o 1o saque\n",
    "# 2nd_return% - % Pontos ganhos devolvendo o 2o saque\n",
    "# Break_Points_Converted - Numero de break points convertidos\n",
    "# Time - Tempo de partida"
   ]
  },
  {
   "cell_type": "code",
   "execution_count": 14,
   "metadata": {},
   "outputs": [
    {
     "data": {
      "text/plain": [
       "Year                        int64\n",
       "Tournament                 object\n",
       "Surface                    object\n",
       "Rd                         object\n",
       "Rk                          int64\n",
       "vRk                         int64\n",
       "Opponent                   object\n",
       "Result                     object\n",
       "Score                      object\n",
       "Dominance_Ratio           float64\n",
       "Ace_Rate                  float64\n",
       "Double_Fault_Rate         float64\n",
       "1st_In                    float64\n",
       "1st%                      float64\n",
       "2nd%                      float64\n",
       "Break_Points_Saved         object\n",
       "Total_Points_Won          float64\n",
       "Return_Points_Won         float64\n",
       "Ace_Rate_Against          float64\n",
       "1st_return%               float64\n",
       "2nd_return%               float64\n",
       "Break_Points_Converted     object\n",
       "Time                       object\n",
       "dtype: object"
      ]
     },
     "execution_count": 14,
     "metadata": {},
     "output_type": "execute_result"
    }
   ],
   "source": [
    "djoko_df.dtypes"
   ]
  },
  {
   "cell_type": "code",
   "execution_count": 16,
   "metadata": {},
   "outputs": [],
   "source": [
    "djoko_df['Tournament'] = djoko_df['Tournament'].astype('category')\n",
    "nadal_df['Tournament'] = nadal_df['Tournament'].astype('category')\n",
    "federer_df['Tournament'] = federer_df['Tournament'].astype('category')\n",
    "\n",
    "djoko_df['Surface'] = djoko_df['Surface'].astype('category')\n",
    "nadal_df['Surface'] = nadal_df['Surface'].astype('category')\n",
    "federer_df['Surface'] = federer_df['Surface'].astype('category')\n",
    "\n",
    "djoko_df['Rd'] = djoko_df['Rd'].astype('category')\n",
    "nadal_df['Rd'] = nadal_df['Rd'].astype('category')\n",
    "federer_df['Rd'] = federer_df['Rd'].astype('category')\n",
    "\n",
    "djoko_df['Result'] = djoko_df['Result'].astype('category')\n",
    "nadal_df['Result'] = nadal_df['Result'].astype('category')\n",
    "federer_df['Result'] = federer_df['Result'].astype('category')\n",
    "\n",
    "djoko_df['Time'] = djoko_df['Time'].astype(str)\n",
    "nadal_df['Time'] = nadal_df['Time'].astype(str)\n",
    "federer_df['Time'] = federer_df['Time'].astype(str)\n",
    "\n",
    "djoko_df['Score'] = djoko_df['Score'].astype(str)\n",
    "nadal_df['Score'] = nadal_df['Score'].astype(str)\n",
    "federer_df['Score'] = federer_df['Score'].astype(str)"
   ]
  },
  {
   "cell_type": "markdown",
   "metadata": {},
   "source": [
    "<h1>Análise Descritiva dos Dados<h1>"
   ]
  },
  {
   "cell_type": "code",
   "execution_count": 16,
   "metadata": {},
   "outputs": [
    {
     "data": {
      "text/html": [
       "<div>\n",
       "<style scoped>\n",
       "    .dataframe tbody tr th:only-of-type {\n",
       "        vertical-align: middle;\n",
       "    }\n",
       "\n",
       "    .dataframe tbody tr th {\n",
       "        vertical-align: top;\n",
       "    }\n",
       "\n",
       "    .dataframe thead th {\n",
       "        text-align: right;\n",
       "    }\n",
       "</style>\n",
       "<table border=\"1\" class=\"dataframe\">\n",
       "  <thead>\n",
       "    <tr style=\"text-align: right;\">\n",
       "      <th></th>\n",
       "      <th>Year</th>\n",
       "      <th>Rk</th>\n",
       "      <th>vRk</th>\n",
       "      <th>Dominance_Ratio</th>\n",
       "      <th>Ace_Rate</th>\n",
       "      <th>Double_Fault_Rate</th>\n",
       "      <th>1st_In</th>\n",
       "      <th>1st%</th>\n",
       "      <th>2nd%</th>\n",
       "      <th>Total_Points_Won</th>\n",
       "      <th>Return_Points_Won</th>\n",
       "      <th>Ace_Rate_Against</th>\n",
       "      <th>1st_return%</th>\n",
       "      <th>2nd_return%</th>\n",
       "    </tr>\n",
       "  </thead>\n",
       "  <tbody>\n",
       "    <tr>\n",
       "      <th>count</th>\n",
       "      <td>175.000000</td>\n",
       "      <td>175.000000</td>\n",
       "      <td>175.000000</td>\n",
       "      <td>175.000000</td>\n",
       "      <td>175.000000</td>\n",
       "      <td>175.000000</td>\n",
       "      <td>175.000000</td>\n",
       "      <td>175.000000</td>\n",
       "      <td>175.000000</td>\n",
       "      <td>175.000000</td>\n",
       "      <td>175.000000</td>\n",
       "      <td>175.000000</td>\n",
       "      <td>175.000000</td>\n",
       "      <td>175.000000</td>\n",
       "    </tr>\n",
       "    <tr>\n",
       "      <th>mean</th>\n",
       "      <td>2016.354286</td>\n",
       "      <td>2.651429</td>\n",
       "      <td>59.965714</td>\n",
       "      <td>1.604914</td>\n",
       "      <td>0.050800</td>\n",
       "      <td>0.024229</td>\n",
       "      <td>0.671143</td>\n",
       "      <td>0.752171</td>\n",
       "      <td>0.594800</td>\n",
       "      <td>0.570171</td>\n",
       "      <td>0.450286</td>\n",
       "      <td>0.069714</td>\n",
       "      <td>0.376857</td>\n",
       "      <td>0.568629</td>\n",
       "    </tr>\n",
       "    <tr>\n",
       "      <th>std</th>\n",
       "      <td>2.880807</td>\n",
       "      <td>2.162556</td>\n",
       "      <td>70.075320</td>\n",
       "      <td>0.564973</td>\n",
       "      <td>0.035273</td>\n",
       "      <td>0.018673</td>\n",
       "      <td>0.062733</td>\n",
       "      <td>0.080857</td>\n",
       "      <td>0.108086</td>\n",
       "      <td>0.054398</td>\n",
       "      <td>0.081857</td>\n",
       "      <td>0.050200</td>\n",
       "      <td>0.094728</td>\n",
       "      <td>0.109557</td>\n",
       "    </tr>\n",
       "    <tr>\n",
       "      <th>min</th>\n",
       "      <td>2011.000000</td>\n",
       "      <td>1.000000</td>\n",
       "      <td>1.000000</td>\n",
       "      <td>0.420000</td>\n",
       "      <td>0.000000</td>\n",
       "      <td>0.000000</td>\n",
       "      <td>0.510000</td>\n",
       "      <td>0.470000</td>\n",
       "      <td>0.290000</td>\n",
       "      <td>0.370000</td>\n",
       "      <td>0.190000</td>\n",
       "      <td>0.000000</td>\n",
       "      <td>0.130000</td>\n",
       "      <td>0.160000</td>\n",
       "    </tr>\n",
       "    <tr>\n",
       "      <th>25%</th>\n",
       "      <td>2014.000000</td>\n",
       "      <td>1.000000</td>\n",
       "      <td>15.000000</td>\n",
       "      <td>1.290000</td>\n",
       "      <td>0.030000</td>\n",
       "      <td>0.010000</td>\n",
       "      <td>0.630000</td>\n",
       "      <td>0.700000</td>\n",
       "      <td>0.530000</td>\n",
       "      <td>0.540000</td>\n",
       "      <td>0.395000</td>\n",
       "      <td>0.030000</td>\n",
       "      <td>0.310000</td>\n",
       "      <td>0.500000</td>\n",
       "    </tr>\n",
       "    <tr>\n",
       "      <th>50%</th>\n",
       "      <td>2017.000000</td>\n",
       "      <td>2.000000</td>\n",
       "      <td>42.000000</td>\n",
       "      <td>1.560000</td>\n",
       "      <td>0.050000</td>\n",
       "      <td>0.020000</td>\n",
       "      <td>0.670000</td>\n",
       "      <td>0.760000</td>\n",
       "      <td>0.600000</td>\n",
       "      <td>0.580000</td>\n",
       "      <td>0.460000</td>\n",
       "      <td>0.060000</td>\n",
       "      <td>0.380000</td>\n",
       "      <td>0.560000</td>\n",
       "    </tr>\n",
       "    <tr>\n",
       "      <th>75%</th>\n",
       "      <td>2019.000000</td>\n",
       "      <td>3.000000</td>\n",
       "      <td>78.500000</td>\n",
       "      <td>1.825000</td>\n",
       "      <td>0.070000</td>\n",
       "      <td>0.030000</td>\n",
       "      <td>0.710000</td>\n",
       "      <td>0.820000</td>\n",
       "      <td>0.670000</td>\n",
       "      <td>0.600000</td>\n",
       "      <td>0.500000</td>\n",
       "      <td>0.100000</td>\n",
       "      <td>0.435000</td>\n",
       "      <td>0.640000</td>\n",
       "    </tr>\n",
       "    <tr>\n",
       "      <th>max</th>\n",
       "      <td>2021.000000</td>\n",
       "      <td>10.000000</td>\n",
       "      <td>570.000000</td>\n",
       "      <td>5.290000</td>\n",
       "      <td>0.190000</td>\n",
       "      <td>0.080000</td>\n",
       "      <td>0.840000</td>\n",
       "      <td>0.910000</td>\n",
       "      <td>0.860000</td>\n",
       "      <td>0.720000</td>\n",
       "      <td>0.710000</td>\n",
       "      <td>0.260000</td>\n",
       "      <td>0.640000</td>\n",
       "      <td>1.000000</td>\n",
       "    </tr>\n",
       "  </tbody>\n",
       "</table>\n",
       "</div>"
      ],
      "text/plain": [
       "              Year          Rk         vRk  Dominance_Ratio    Ace_Rate  \\\n",
       "count   175.000000  175.000000  175.000000       175.000000  175.000000   \n",
       "mean   2016.354286    2.651429   59.965714         1.604914    0.050800   \n",
       "std       2.880807    2.162556   70.075320         0.564973    0.035273   \n",
       "min    2011.000000    1.000000    1.000000         0.420000    0.000000   \n",
       "25%    2014.000000    1.000000   15.000000         1.290000    0.030000   \n",
       "50%    2017.000000    2.000000   42.000000         1.560000    0.050000   \n",
       "75%    2019.000000    3.000000   78.500000         1.825000    0.070000   \n",
       "max    2021.000000   10.000000  570.000000         5.290000    0.190000   \n",
       "\n",
       "       Double_Fault_Rate      1st_In        1st%        2nd%  \\\n",
       "count         175.000000  175.000000  175.000000  175.000000   \n",
       "mean            0.024229    0.671143    0.752171    0.594800   \n",
       "std             0.018673    0.062733    0.080857    0.108086   \n",
       "min             0.000000    0.510000    0.470000    0.290000   \n",
       "25%             0.010000    0.630000    0.700000    0.530000   \n",
       "50%             0.020000    0.670000    0.760000    0.600000   \n",
       "75%             0.030000    0.710000    0.820000    0.670000   \n",
       "max             0.080000    0.840000    0.910000    0.860000   \n",
       "\n",
       "       Total_Points_Won  Return_Points_Won  Ace_Rate_Against  1st_return%  \\\n",
       "count        175.000000         175.000000        175.000000   175.000000   \n",
       "mean           0.570171           0.450286          0.069714     0.376857   \n",
       "std            0.054398           0.081857          0.050200     0.094728   \n",
       "min            0.370000           0.190000          0.000000     0.130000   \n",
       "25%            0.540000           0.395000          0.030000     0.310000   \n",
       "50%            0.580000           0.460000          0.060000     0.380000   \n",
       "75%            0.600000           0.500000          0.100000     0.435000   \n",
       "max            0.720000           0.710000          0.260000     0.640000   \n",
       "\n",
       "       2nd_return%  \n",
       "count   175.000000  \n",
       "mean      0.568629  \n",
       "std       0.109557  \n",
       "min       0.160000  \n",
       "25%       0.500000  \n",
       "50%       0.560000  \n",
       "75%       0.640000  \n",
       "max       1.000000  "
      ]
     },
     "execution_count": 16,
     "metadata": {},
     "output_type": "execute_result"
    }
   ],
   "source": [
    "nadal_df.describe()"
   ]
  },
  {
   "cell_type": "code",
   "execution_count": 17,
   "metadata": {},
   "outputs": [
    {
     "data": {
      "text/plain": [
       "<AxesSubplot:xlabel='Result', ylabel='count'>"
      ]
     },
     "execution_count": 17,
     "metadata": {},
     "output_type": "execute_result"
    },
    {
     "data": {
      "image/png": "[encoded data removed]",
      "text/plain": [
       "<Figure size 432x288 with 1 Axes>"
      ]
     },
     "metadata": {
      "needs_background": "light"
     },
     "output_type": "display_data"
    }
   ],
   "source": [
    "sns.countplot(x=\"Result\", hue=\"Tournament\", data=nadal_df,\n",
    "             hue_order = ['Australian Open', 'Roland Garros', 'Wimbledon', 'US Open'], order=[\"W\", \"L\"],\n",
    "             edgecolor='black')"
   ]
  },
  {
   "cell_type": "code",
   "execution_count": 18,
   "metadata": {},
   "outputs": [
    {
     "data": {
      "text/html": [
       "<div>\n",
       "<style scoped>\n",
       "    .dataframe tbody tr th:only-of-type {\n",
       "        vertical-align: middle;\n",
       "    }\n",
       "\n",
       "    .dataframe tbody tr th {\n",
       "        vertical-align: top;\n",
       "    }\n",
       "\n",
       "    .dataframe thead th {\n",
       "        text-align: right;\n",
       "    }\n",
       "</style>\n",
       "<table border=\"1\" class=\"dataframe\">\n",
       "  <thead>\n",
       "    <tr style=\"text-align: right;\">\n",
       "      <th></th>\n",
       "      <th>Year</th>\n",
       "      <th>Rk</th>\n",
       "      <th>vRk</th>\n",
       "      <th>Dominance_Ratio</th>\n",
       "      <th>Ace_Rate</th>\n",
       "      <th>Double_Fault_Rate</th>\n",
       "      <th>1st_In</th>\n",
       "      <th>1st%</th>\n",
       "      <th>2nd%</th>\n",
       "      <th>Total_Points_Won</th>\n",
       "      <th>Return_Points_Won</th>\n",
       "      <th>Ace_Rate_Against</th>\n",
       "      <th>1st_return%</th>\n",
       "      <th>2nd_return%</th>\n",
       "    </tr>\n",
       "  </thead>\n",
       "  <tbody>\n",
       "    <tr>\n",
       "      <th>count</th>\n",
       "      <td>173.000000</td>\n",
       "      <td>173.000000</td>\n",
       "      <td>173.000000</td>\n",
       "      <td>173.000000</td>\n",
       "      <td>173.000000</td>\n",
       "      <td>173.000000</td>\n",
       "      <td>173.000000</td>\n",
       "      <td>173.000000</td>\n",
       "      <td>173.000000</td>\n",
       "      <td>173.000000</td>\n",
       "      <td>173.000000</td>\n",
       "      <td>173.000000</td>\n",
       "      <td>173.000000</td>\n",
       "      <td>173.000000</td>\n",
       "    </tr>\n",
       "    <tr>\n",
       "      <th>mean</th>\n",
       "      <td>2015.676301</td>\n",
       "      <td>3.838150</td>\n",
       "      <td>55.369942</td>\n",
       "      <td>1.623410</td>\n",
       "      <td>0.115029</td>\n",
       "      <td>0.020116</td>\n",
       "      <td>0.644277</td>\n",
       "      <td>0.797283</td>\n",
       "      <td>0.595260</td>\n",
       "      <td>0.559249</td>\n",
       "      <td>0.412312</td>\n",
       "      <td>0.057283</td>\n",
       "      <td>0.345954</td>\n",
       "      <td>0.521272</td>\n",
       "    </tr>\n",
       "    <tr>\n",
       "      <th>std</th>\n",
       "      <td>2.778523</td>\n",
       "      <td>3.113612</td>\n",
       "      <td>73.730588</td>\n",
       "      <td>0.587078</td>\n",
       "      <td>0.056421</td>\n",
       "      <td>0.016844</td>\n",
       "      <td>0.054359</td>\n",
       "      <td>0.073794</td>\n",
       "      <td>0.100837</td>\n",
       "      <td>0.053494</td>\n",
       "      <td>0.073937</td>\n",
       "      <td>0.042837</td>\n",
       "      <td>0.091244</td>\n",
       "      <td>0.096518</td>\n",
       "    </tr>\n",
       "    <tr>\n",
       "      <th>min</th>\n",
       "      <td>2011.000000</td>\n",
       "      <td>1.000000</td>\n",
       "      <td>1.000000</td>\n",
       "      <td>0.560000</td>\n",
       "      <td>0.000000</td>\n",
       "      <td>0.000000</td>\n",
       "      <td>0.430000</td>\n",
       "      <td>0.560000</td>\n",
       "      <td>0.330000</td>\n",
       "      <td>0.420000</td>\n",
       "      <td>0.240000</td>\n",
       "      <td>0.000000</td>\n",
       "      <td>0.120000</td>\n",
       "      <td>0.270000</td>\n",
       "    </tr>\n",
       "    <tr>\n",
       "      <th>25%</th>\n",
       "      <td>2013.000000</td>\n",
       "      <td>2.000000</td>\n",
       "      <td>13.000000</td>\n",
       "      <td>1.240000</td>\n",
       "      <td>0.080000</td>\n",
       "      <td>0.010000</td>\n",
       "      <td>0.610000</td>\n",
       "      <td>0.750000</td>\n",
       "      <td>0.520000</td>\n",
       "      <td>0.530000</td>\n",
       "      <td>0.360000</td>\n",
       "      <td>0.030000</td>\n",
       "      <td>0.290000</td>\n",
       "      <td>0.460000</td>\n",
       "    </tr>\n",
       "    <tr>\n",
       "      <th>50%</th>\n",
       "      <td>2015.000000</td>\n",
       "      <td>3.000000</td>\n",
       "      <td>38.000000</td>\n",
       "      <td>1.550000</td>\n",
       "      <td>0.110000</td>\n",
       "      <td>0.020000</td>\n",
       "      <td>0.640000</td>\n",
       "      <td>0.800000</td>\n",
       "      <td>0.580000</td>\n",
       "      <td>0.560000</td>\n",
       "      <td>0.410000</td>\n",
       "      <td>0.050000</td>\n",
       "      <td>0.340000</td>\n",
       "      <td>0.510000</td>\n",
       "    </tr>\n",
       "    <tr>\n",
       "      <th>75%</th>\n",
       "      <td>2018.000000</td>\n",
       "      <td>3.000000</td>\n",
       "      <td>75.000000</td>\n",
       "      <td>1.990000</td>\n",
       "      <td>0.150000</td>\n",
       "      <td>0.030000</td>\n",
       "      <td>0.680000</td>\n",
       "      <td>0.840000</td>\n",
       "      <td>0.670000</td>\n",
       "      <td>0.600000</td>\n",
       "      <td>0.460000</td>\n",
       "      <td>0.080000</td>\n",
       "      <td>0.400000</td>\n",
       "      <td>0.580000</td>\n",
       "    </tr>\n",
       "    <tr>\n",
       "      <th>max</th>\n",
       "      <td>2021.000000</td>\n",
       "      <td>17.000000</td>\n",
       "      <td>772.000000</td>\n",
       "      <td>4.200000</td>\n",
       "      <td>0.360000</td>\n",
       "      <td>0.080000</td>\n",
       "      <td>0.770000</td>\n",
       "      <td>0.950000</td>\n",
       "      <td>0.820000</td>\n",
       "      <td>0.690000</td>\n",
       "      <td>0.670000</td>\n",
       "      <td>0.200000</td>\n",
       "      <td>0.600000</td>\n",
       "      <td>0.850000</td>\n",
       "    </tr>\n",
       "  </tbody>\n",
       "</table>\n",
       "</div>"
      ],
      "text/plain": [
       "              Year          Rk         vRk  Dominance_Ratio    Ace_Rate  \\\n",
       "count   173.000000  173.000000  173.000000       173.000000  173.000000   \n",
       "mean   2015.676301    3.838150   55.369942         1.623410    0.115029   \n",
       "std       2.778523    3.113612   73.730588         0.587078    0.056421   \n",
       "min    2011.000000    1.000000    1.000000         0.560000    0.000000   \n",
       "25%    2013.000000    2.000000   13.000000         1.240000    0.080000   \n",
       "50%    2015.000000    3.000000   38.000000         1.550000    0.110000   \n",
       "75%    2018.000000    3.000000   75.000000         1.990000    0.150000   \n",
       "max    2021.000000   17.000000  772.000000         4.200000    0.360000   \n",
       "\n",
       "       Double_Fault_Rate      1st_In        1st%        2nd%  \\\n",
       "count         173.000000  173.000000  173.000000  173.000000   \n",
       "mean            0.020116    0.644277    0.797283    0.595260   \n",
       "std             0.016844    0.054359    0.073794    0.100837   \n",
       "min             0.000000    0.430000    0.560000    0.330000   \n",
       "25%             0.010000    0.610000    0.750000    0.520000   \n",
       "50%             0.020000    0.640000    0.800000    0.580000   \n",
       "75%             0.030000    0.680000    0.840000    0.670000   \n",
       "max             0.080000    0.770000    0.950000    0.820000   \n",
       "\n",
       "       Total_Points_Won  Return_Points_Won  Ace_Rate_Against  1st_return%  \\\n",
       "count        173.000000         173.000000        173.000000   173.000000   \n",
       "mean           0.559249           0.412312          0.057283     0.345954   \n",
       "std            0.053494           0.073937          0.042837     0.091244   \n",
       "min            0.420000           0.240000          0.000000     0.120000   \n",
       "25%            0.530000           0.360000          0.030000     0.290000   \n",
       "50%            0.560000           0.410000          0.050000     0.340000   \n",
       "75%            0.600000           0.460000          0.080000     0.400000   \n",
       "max            0.690000           0.670000          0.200000     0.600000   \n",
       "\n",
       "       2nd_return%  \n",
       "count   173.000000  \n",
       "mean      0.521272  \n",
       "std       0.096518  \n",
       "min       0.270000  \n",
       "25%       0.460000  \n",
       "50%       0.510000  \n",
       "75%       0.580000  \n",
       "max       0.850000  "
      ]
     },
     "execution_count": 18,
     "metadata": {},
     "output_type": "execute_result"
    }
   ],
   "source": [
    "federer_df.describe()"
   ]
  },
  {
   "cell_type": "code",
   "execution_count": 19,
   "metadata": {},
   "outputs": [
    {
     "data": {
      "text/plain": [
       "<AxesSubplot:xlabel='Result', ylabel='count'>"
      ]
     },
     "execution_count": 19,
     "metadata": {},
     "output_type": "execute_result"
    },
    {
     "data": {
      "image/png": "[encoded data removed]",
      "text/plain": [
       "<Figure size 432x288 with 1 Axes>"
      ]
     },
     "metadata": {
      "needs_background": "light"
     },
     "output_type": "display_data"
    }
   ],
   "source": [
    "sns.countplot(x=\"Result\", hue=\"Tournament\", data=federer_df,\n",
    "             hue_order = ['Australian Open', 'Roland Garros', 'Wimbledon', 'US Open'], order=[\"W\", \"L\"],\n",
    "             edgecolor='black')"
   ]
  },
  {
   "cell_type": "code",
   "execution_count": 20,
   "metadata": {},
   "outputs": [
    {
     "data": {
      "text/html": [
       "<div>\n",
       "<style scoped>\n",
       "    .dataframe tbody tr th:only-of-type {\n",
       "        vertical-align: middle;\n",
       "    }\n",
       "\n",
       "    .dataframe tbody tr th {\n",
       "        vertical-align: top;\n",
       "    }\n",
       "\n",
       "    .dataframe thead th {\n",
       "        text-align: right;\n",
       "    }\n",
       "</style>\n",
       "<table border=\"1\" class=\"dataframe\">\n",
       "  <thead>\n",
       "    <tr style=\"text-align: right;\">\n",
       "      <th></th>\n",
       "      <th>Year</th>\n",
       "      <th>Rk</th>\n",
       "      <th>vRk</th>\n",
       "      <th>Dominance_Ratio</th>\n",
       "      <th>Ace_Rate</th>\n",
       "      <th>Double_Fault_Rate</th>\n",
       "      <th>1st_In</th>\n",
       "      <th>1st%</th>\n",
       "      <th>2nd%</th>\n",
       "      <th>Total_Points_Won</th>\n",
       "      <th>Return_Points_Won</th>\n",
       "      <th>Ace_Rate_Against</th>\n",
       "      <th>1st_return%</th>\n",
       "      <th>2nd_return%</th>\n",
       "    </tr>\n",
       "  </thead>\n",
       "  <tbody>\n",
       "    <tr>\n",
       "      <th>count</th>\n",
       "      <td>235.000000</td>\n",
       "      <td>235.000000</td>\n",
       "      <td>235.000000</td>\n",
       "      <td>235.000000</td>\n",
       "      <td>235.000000</td>\n",
       "      <td>235.000000</td>\n",
       "      <td>235.000000</td>\n",
       "      <td>235.000000</td>\n",
       "      <td>235.000000</td>\n",
       "      <td>235.000000</td>\n",
       "      <td>235.000000</td>\n",
       "      <td>235.000000</td>\n",
       "      <td>235.000000</td>\n",
       "      <td>235.000000</td>\n",
       "    </tr>\n",
       "    <tr>\n",
       "      <th>mean</th>\n",
       "      <td>2016.021277</td>\n",
       "      <td>2.646809</td>\n",
       "      <td>50.229787</td>\n",
       "      <td>1.659404</td>\n",
       "      <td>0.081745</td>\n",
       "      <td>0.023660</td>\n",
       "      <td>0.663617</td>\n",
       "      <td>0.765319</td>\n",
       "      <td>0.595702</td>\n",
       "      <td>0.568979</td>\n",
       "      <td>0.445660</td>\n",
       "      <td>0.059957</td>\n",
       "      <td>0.361191</td>\n",
       "      <td>0.573106</td>\n",
       "    </tr>\n",
       "    <tr>\n",
       "      <th>std</th>\n",
       "      <td>3.003483</td>\n",
       "      <td>4.760811</td>\n",
       "      <td>61.874342</td>\n",
       "      <td>0.690446</td>\n",
       "      <td>0.055207</td>\n",
       "      <td>0.019442</td>\n",
       "      <td>0.053318</td>\n",
       "      <td>0.078005</td>\n",
       "      <td>0.104046</td>\n",
       "      <td>0.052108</td>\n",
       "      <td>0.074294</td>\n",
       "      <td>0.043190</td>\n",
       "      <td>0.083468</td>\n",
       "      <td>0.095381</td>\n",
       "    </tr>\n",
       "    <tr>\n",
       "      <th>min</th>\n",
       "      <td>2011.000000</td>\n",
       "      <td>1.000000</td>\n",
       "      <td>1.000000</td>\n",
       "      <td>0.620000</td>\n",
       "      <td>0.000000</td>\n",
       "      <td>0.000000</td>\n",
       "      <td>0.510000</td>\n",
       "      <td>0.500000</td>\n",
       "      <td>0.360000</td>\n",
       "      <td>0.420000</td>\n",
       "      <td>0.240000</td>\n",
       "      <td>0.000000</td>\n",
       "      <td>0.070000</td>\n",
       "      <td>0.280000</td>\n",
       "    </tr>\n",
       "    <tr>\n",
       "      <th>25%</th>\n",
       "      <td>2013.000000</td>\n",
       "      <td>1.000000</td>\n",
       "      <td>9.000000</td>\n",
       "      <td>1.240000</td>\n",
       "      <td>0.040000</td>\n",
       "      <td>0.010000</td>\n",
       "      <td>0.625000</td>\n",
       "      <td>0.720000</td>\n",
       "      <td>0.530000</td>\n",
       "      <td>0.540000</td>\n",
       "      <td>0.390000</td>\n",
       "      <td>0.030000</td>\n",
       "      <td>0.300000</td>\n",
       "      <td>0.500000</td>\n",
       "    </tr>\n",
       "    <tr>\n",
       "      <th>50%</th>\n",
       "      <td>2016.000000</td>\n",
       "      <td>1.000000</td>\n",
       "      <td>31.000000</td>\n",
       "      <td>1.470000</td>\n",
       "      <td>0.070000</td>\n",
       "      <td>0.020000</td>\n",
       "      <td>0.660000</td>\n",
       "      <td>0.760000</td>\n",
       "      <td>0.580000</td>\n",
       "      <td>0.570000</td>\n",
       "      <td>0.440000</td>\n",
       "      <td>0.050000</td>\n",
       "      <td>0.360000</td>\n",
       "      <td>0.570000</td>\n",
       "    </tr>\n",
       "    <tr>\n",
       "      <th>75%</th>\n",
       "      <td>2019.000000</td>\n",
       "      <td>2.000000</td>\n",
       "      <td>67.000000</td>\n",
       "      <td>1.885000</td>\n",
       "      <td>0.110000</td>\n",
       "      <td>0.030000</td>\n",
       "      <td>0.700000</td>\n",
       "      <td>0.820000</td>\n",
       "      <td>0.670000</td>\n",
       "      <td>0.600000</td>\n",
       "      <td>0.490000</td>\n",
       "      <td>0.080000</td>\n",
       "      <td>0.410000</td>\n",
       "      <td>0.635000</td>\n",
       "    </tr>\n",
       "    <tr>\n",
       "      <th>max</th>\n",
       "      <td>2021.000000</td>\n",
       "      <td>22.000000</td>\n",
       "      <td>589.000000</td>\n",
       "      <td>5.720000</td>\n",
       "      <td>0.320000</td>\n",
       "      <td>0.100000</td>\n",
       "      <td>0.830000</td>\n",
       "      <td>1.000000</td>\n",
       "      <td>0.890000</td>\n",
       "      <td>0.770000</td>\n",
       "      <td>0.730000</td>\n",
       "      <td>0.240000</td>\n",
       "      <td>0.610000</td>\n",
       "      <td>0.930000</td>\n",
       "    </tr>\n",
       "  </tbody>\n",
       "</table>\n",
       "</div>"
      ],
      "text/plain": [
       "              Year          Rk         vRk  Dominance_Ratio    Ace_Rate  \\\n",
       "count   235.000000  235.000000  235.000000       235.000000  235.000000   \n",
       "mean   2016.021277    2.646809   50.229787         1.659404    0.081745   \n",
       "std       3.003483    4.760811   61.874342         0.690446    0.055207   \n",
       "min    2011.000000    1.000000    1.000000         0.620000    0.000000   \n",
       "25%    2013.000000    1.000000    9.000000         1.240000    0.040000   \n",
       "50%    2016.000000    1.000000   31.000000         1.470000    0.070000   \n",
       "75%    2019.000000    2.000000   67.000000         1.885000    0.110000   \n",
       "max    2021.000000   22.000000  589.000000         5.720000    0.320000   \n",
       "\n",
       "       Double_Fault_Rate      1st_In        1st%        2nd%  \\\n",
       "count         235.000000  235.000000  235.000000  235.000000   \n",
       "mean            0.023660    0.663617    0.765319    0.595702   \n",
       "std             0.019442    0.053318    0.078005    0.104046   \n",
       "min             0.000000    0.510000    0.500000    0.360000   \n",
       "25%             0.010000    0.625000    0.720000    0.530000   \n",
       "50%             0.020000    0.660000    0.760000    0.580000   \n",
       "75%             0.030000    0.700000    0.820000    0.670000   \n",
       "max             0.100000    0.830000    1.000000    0.890000   \n",
       "\n",
       "       Total_Points_Won  Return_Points_Won  Ace_Rate_Against  1st_return%  \\\n",
       "count        235.000000         235.000000        235.000000   235.000000   \n",
       "mean           0.568979           0.445660          0.059957     0.361191   \n",
       "std            0.052108           0.074294          0.043190     0.083468   \n",
       "min            0.420000           0.240000          0.000000     0.070000   \n",
       "25%            0.540000           0.390000          0.030000     0.300000   \n",
       "50%            0.570000           0.440000          0.050000     0.360000   \n",
       "75%            0.600000           0.490000          0.080000     0.410000   \n",
       "max            0.770000           0.730000          0.240000     0.610000   \n",
       "\n",
       "       2nd_return%  \n",
       "count   235.000000  \n",
       "mean      0.573106  \n",
       "std       0.095381  \n",
       "min       0.280000  \n",
       "25%       0.500000  \n",
       "50%       0.570000  \n",
       "75%       0.635000  \n",
       "max       0.930000  "
      ]
     },
     "execution_count": 20,
     "metadata": {},
     "output_type": "execute_result"
    }
   ],
   "source": [
    "djoko_df.describe()"
   ]
  },
  {
   "cell_type": "code",
   "execution_count": 21,
   "metadata": {},
   "outputs": [
    {
     "data": {
      "text/plain": [
       "<AxesSubplot:xlabel='Result', ylabel='count'>"
      ]
     },
     "execution_count": 21,
     "metadata": {},
     "output_type": "execute_result"
    },
    {
     "data": {
      "image/png": "[encoded data removed]",
      "text/plain": [
       "<Figure size 432x288 with 1 Axes>"
      ]
     },
     "metadata": {
      "needs_background": "light"
     },
     "output_type": "display_data"
    }
   ],
   "source": [
    "sns.countplot(x=\"Result\", hue=\"Tournament\", data=djoko_df,\n",
    "             hue_order = ['Australian Open', 'Roland Garros', 'Wimbledon', 'US Open'], order=[\"W\", \"L\"],\n",
    "             edgecolor='black')"
   ]
  },
  {
   "cell_type": "code",
   "execution_count": 22,
   "metadata": {},
   "outputs": [],
   "source": [
    "# Novak Djokovic apresenta o melhor desempenho dos 3 tenistas nos ultimos 10 anos\n",
    "# com numeros grandes de vitorias nos 4 Grand Slams. O de maior sucesso é o Australian Open,\n",
    "# o que ja era de se esperar, ja que em toda sua carreira foi o torneio que mais venceu\n",
    "# com um total de 9 titulos\n",
    "# Rafael Nadal possui uma quantidade muito maior de vitorias em Roland Garros, onde, ao longo de sua carreira\n",
    "# conquistou 13 titulos, um recorde muito difícil de ser alcançado\n",
    "# O Grand Slam que possui menos sucesso é o Australian Open, e podemos ver no gráfico que é o torneio em que possui\n",
    "# mais eliminações\n",
    "# Roger Federer teve seu maior sucesso nos torneios de Wimbledon, o que fica evidente pelo seu maior numero de vitorias\n",
    "# nessa competicao, na qual, embora não tenha conquistado tantos titulos nos ultimos 10 anos, possui um total de 9 taças."
   ]
  },
  {
   "cell_type": "code",
   "execution_count": 23,
   "metadata": {
    "scrolled": true
   },
   "outputs": [
    {
     "name": "stdout",
     "output_type": "stream",
     "text": [
      "Numero de finais de Novak Djokovic\n",
      "25\n",
      "Numero de finais de Rafael Nadal\n",
      "15\n",
      "Numero de finais de Roger Federer\n",
      "8\n"
     ]
    }
   ],
   "source": [
    "\n",
    "print(\"Numero de finais de Novak Djokovic\")\n",
    "print(djoko_df[djoko_df['Rd'] == 'F']['Rd'].count())\n",
    "\n",
    "print(\"Numero de finais de Rafael Nadal\")\n",
    "print(nadal_df[nadal_df['Rd'] == 'F']['Rd'].count())\n",
    "\n",
    "print(\"Numero de finais de Roger Federer\")\n",
    "print(federer_df[federer_df['Rd'] == 'F']['Rd'].count())"
   ]
  },
  {
   "cell_type": "code",
   "execution_count": 24,
   "metadata": {},
   "outputs": [
    {
     "name": "stdout",
     "output_type": "stream",
     "text": [
      "Numero de titulos de Novak Djokovic\n",
      "17\n",
      "Numero de titulos de Rafael Nadal\n",
      "10\n",
      "Numero de titulos de Roger Federer\n",
      "4\n"
     ]
    }
   ],
   "source": [
    "print(\"Numero de titulos de Novak Djokovic\")\n",
    "print(djoko_df[(djoko_df['Rd'] == 'F') & (djoko_df['Result'] == \"W\")]['Rd'].count())\n",
    "\n",
    "print(\"Numero de titulos de Rafael Nadal\")\n",
    "print(nadal_df[(nadal_df['Rd'] == 'F') & (nadal_df['Result'] == \"W\")]['Rd'].count())\n",
    "\n",
    "print(\"Numero de titulos de Roger Federer\")\n",
    "print(federer_df[(federer_df['Rd'] == 'F') & (federer_df['Result'] == \"W\")]['Rd'].count())"
   ]
  },
  {
   "cell_type": "code",
   "execution_count": 25,
   "metadata": {},
   "outputs": [
    {
     "name": "stdout",
     "output_type": "stream",
     "text": [
      "O que nos da um aproveitamento em finais de: \n",
      "68.0% para Djokovic\n",
      "66.67% para Nadal\n",
      "50.0% para Federer\n"
     ]
    }
   ],
   "source": [
    "print(\"O que nos da um aproveitamento em finais de: \")\n",
    "print(str(round((17/25 * 100),2)) + \"% para Djokovic\")\n",
    "print(str(round((10/15 * 100),2)) + \"% para Nadal\")\n",
    "print(str(round((4/8 * 100),2)) + \"% para Federer\")"
   ]
  },
  {
   "cell_type": "code",
   "execution_count": 31,
   "metadata": {},
   "outputs": [
    {
     "name": "stdout",
     "output_type": "stream",
     "text": [
      "O tempo medio que cada jogador passou em quadra foi de: \n",
      "2h26min para Djokovic\n",
      "2h33min para Nadal\n",
      "2h9min para Federer\n"
     ]
    }
   ],
   "source": [
    "print(\"O tempo medio que cada jogador passou em quadra foi de: \")\n",
    "mean_time_minutes = djoko_df['Time'].str.split(':').apply(lambda x: int(x[0]) * 60 + int(x[1])).mean()\n",
    "mean_time = str(int(mean_time_minutes//60))+'h'+ str(int(mean_time_minutes%60))+'min'\n",
    "print(mean_time + \" para Djokovic\")\n",
    "      \n",
    "mean_time_minutes = nadal_df['Time'].str.split(':').apply(lambda x: int(x[0]) * 60 + int(x[1])).mean()\n",
    "mean_time = str(int(mean_time_minutes//60))+'h'+ str(int(mean_time_minutes%60))+'min'\n",
    "print(mean_time + \" para Nadal\")\n",
    "    \n",
    "mean_time_minutes = federer_df['Time'].str.split(':').apply(lambda x: int(x[0]) * 60 + int(x[1])).mean()\n",
    "mean_time = str(int(mean_time_minutes//60))+'h'+ str(int(mean_time_minutes%60))+'min'\n",
    "print(mean_time + \" para Federer\")"
   ]
  },
  {
   "cell_type": "code",
   "execution_count": 78,
   "metadata": {},
   "outputs": [],
   "source": [
    "djoko_df['Player'] = 'Novak Djokovic'\n",
    "nadal_df['Player'] = 'Rafael Nadal'\n",
    "federer_df['Player'] = 'Roger Federer'"
   ]
  },
  {
   "cell_type": "code",
   "execution_count": 79,
   "metadata": {},
   "outputs": [],
   "source": [
    "d = {'Player': djoko_df['Player'], '1st_In': djoko_df['1st_In']}\n",
    "djoko_serves_df = pd.DataFrame(d)\n",
    "\n",
    "d = {'Player': federer_df['Player'], '1st_In': federer_df['1st_In']}\n",
    "federer_serves_df = pd.DataFrame(d)\n",
    "\n",
    "d = {'Player': nadal_df['Player'], '1st_In': nadal_df['1st_In']}\n",
    "nadal_serves_df = pd.DataFrame(d)"
   ]
  },
  {
   "cell_type": "code",
   "execution_count": 80,
   "metadata": {},
   "outputs": [],
   "source": [
    "saques = pd.concat([djoko_serves_df, nadal_serves_df, federer_serves_df], axis=0)"
   ]
  },
  {
   "cell_type": "code",
   "execution_count": 177,
   "metadata": {},
   "outputs": [
    {
     "data": {
      "text/plain": [
       "<AxesSubplot:xlabel='Player', ylabel='1st_In'>"
      ]
     },
     "execution_count": 177,
     "metadata": {},
     "output_type": "execute_result"
    },
    {
     "data": {
      "image/png": "[encoded data removed]",
      "text/plain": [
       "<Figure size 432x288 with 1 Axes>"
      ]
     },
     "metadata": {
      "needs_background": "light"
     },
     "output_type": "display_data"
    }
   ],
   "source": [
    "sns.boxplot(data=saques, x='Player', y='1st_In')\n",
    "sns.stripplot(data=saques, x='Player', y='1st_In', color='yellow', linewidth=1)"
   ]
  },
  {
   "cell_type": "code",
   "execution_count": 166,
   "metadata": {},
   "outputs": [],
   "source": [
    "# Embora todos 3 tenham valores consistentes nos saques, observamos que Nadal costuma encaixar melhor os primeiros saques\n",
    "# e Federer, dos 3, é o que menos domina o fundamento, com alguns jogos em que menos da metade do primeiro saque entrou\n",
    "# Ja Djokovic e Nadal ambos tiveram jogos excepcionais com primeiro saque entrando mais que 80% das vezes"
   ]
  },
  {
   "cell_type": "code",
   "execution_count": 167,
   "metadata": {},
   "outputs": [],
   "source": [
    "d = {'Player': djoko_df['Player'], 'Ace_Rate': djoko_df['Ace_Rate']}\n",
    "djoko_serves_df = pd.DataFrame(d)\n",
    "\n",
    "d = {'Player': federer_df['Player'], 'Ace_Rate': federer_df['Ace_Rate']}\n",
    "federer_serves_df = pd.DataFrame(d)\n",
    "\n",
    "d = {'Player': nadal_df['Player'], 'Ace_Rate': nadal_df['Ace_Rate']}\n",
    "nadal_serves_df = pd.DataFrame(d)"
   ]
  },
  {
   "cell_type": "code",
   "execution_count": 168,
   "metadata": {},
   "outputs": [],
   "source": [
    "aces = pd.concat([djoko_serves_df, nadal_serves_df, federer_serves_df], axis=0)"
   ]
  },
  {
   "cell_type": "code",
   "execution_count": 176,
   "metadata": {},
   "outputs": [
    {
     "data": {
      "text/plain": [
       "<AxesSubplot:xlabel='Player', ylabel='Ace_Rate'>"
      ]
     },
     "execution_count": 176,
     "metadata": {},
     "output_type": "execute_result"
    },
    {
     "data": {
      "image/png": "[encoded data removed]",
      "text/plain": [
       "<Figure size 432x288 with 1 Axes>"
      ]
     },
     "metadata": {
      "needs_background": "light"
     },
     "output_type": "display_data"
    }
   ],
   "source": [
    "sns.boxplot(data=aces, x='Player', y='Ace_Rate')\n",
    "sns.stripplot(data=aces, x='Player', y='Ace_Rate', color='yellow', linewidth=1)"
   ]
  },
  {
   "cell_type": "code",
   "execution_count": 170,
   "metadata": {},
   "outputs": [],
   "source": [
    "# Curiosamente, apesar de ter o pior desempenho em primeiros saques entrando, Federer é quem possui maior percentual de Aces\n",
    "# Isso pode também explicar o menor percentual de acertos de primeiro saque, por possivelmente se arriscar mais com saques\n",
    "# mais difíceis, podendo conseguir assim mais aces"
   ]
  },
  {
   "cell_type": "code",
   "execution_count": 171,
   "metadata": {},
   "outputs": [],
   "source": [
    "d = {'Player': djoko_df['Player'], 'Return_Points': djoko_df['Return_Points_Won']}\n",
    "djoko_returns_df = pd.DataFrame(d)\n",
    "\n",
    "d = {'Player': federer_df['Player'], 'Return_Points': federer_df['Return_Points_Won']}\n",
    "federer_returns_df = pd.DataFrame(d)\n",
    "\n",
    "d = {'Player': nadal_df['Player'], 'Return_Points': nadal_df['Return_Points_Won']}\n",
    "nadal_returns_df = pd.DataFrame(d)"
   ]
  },
  {
   "cell_type": "code",
   "execution_count": 172,
   "metadata": {},
   "outputs": [],
   "source": [
    "return_points = pd.concat([djoko_returns_df, nadal_returns_df, federer_returns_df], axis=0)"
   ]
  },
  {
   "cell_type": "code",
   "execution_count": 175,
   "metadata": {},
   "outputs": [
    {
     "data": {
      "text/plain": [
       "<AxesSubplot:xlabel='Player', ylabel='Return_Points'>"
      ]
     },
     "execution_count": 175,
     "metadata": {},
     "output_type": "execute_result"
    },
    {
     "data": {
      "image/png": "[encoded data removed]",
      "text/plain": [
       "<Figure size 432x288 with 1 Axes>"
      ]
     },
     "metadata": {
      "needs_background": "light"
     },
     "output_type": "display_data"
    }
   ],
   "source": [
    "sns.boxplot(data=return_points, x='Player', y='Return_Points')\n",
    "sns.stripplot(data=return_points, x='Player', y='Return_Points', color='yellow',linewidth=1)"
   ]
  },
  {
   "cell_type": "code",
   "execution_count": 90,
   "metadata": {},
   "outputs": [],
   "source": [
    "# Em pontos conseguidos no saque do adversario Djokovic e Nadal aparecem praticamente empatados\n",
    "# com alguns jogos mais excepcionais do tenista Sérvio. Federer apresenta desempenho um pouco inferior\n",
    "# aos outros dois tenistas."
   ]
  },
  {
   "cell_type": "markdown",
   "metadata": {},
   "source": [
    "<h3> Torneios de maior dominância </h3>"
   ]
  },
  {
   "cell_type": "code",
   "execution_count": 112,
   "metadata": {},
   "outputs": [],
   "source": [
    "nadal_rg = nadal_df[nadal_df['Tournament'] == 'Roland Garros']"
   ]
  },
  {
   "cell_type": "code",
   "execution_count": 113,
   "metadata": {},
   "outputs": [
    {
     "data": {
      "text/plain": [
       "<seaborn.axisgrid.FacetGrid at 0x7ffb85c2ef40>"
      ]
     },
     "execution_count": 113,
     "metadata": {},
     "output_type": "execute_result"
    },
    {
     "data": {
      "image/png": "[encoded data removed]",
      "text/plain": [
       "<Figure size 360x360 with 1 Axes>"
      ]
     },
     "metadata": {
      "needs_background": "light"
     },
     "output_type": "display_data"
    }
   ],
   "source": [
    "sns.displot(nadal_rg['Dominance_Ratio'], color='orange')"
   ]
  },
  {
   "cell_type": "code",
   "execution_count": 114,
   "metadata": {},
   "outputs": [],
   "source": [
    "#Nadal possui um domínio muito grande em cima dos adversários no saibro, em Roland Garros principalmente.\n",
    "# o Dominance Ratio indica o percentual de pontos conseguidos no saque adversario dividido pelo percentual de pontos\n",
    "# perdidos no proprio saque, e nadal apresenta em quase todos os jogos uma razão acima de 1, com valores acima de 1.5\n",
    "# e até acima de 2.0 bastante expressivos"
   ]
  },
  {
   "cell_type": "code",
   "execution_count": 115,
   "metadata": {},
   "outputs": [],
   "source": [
    "djoko_aus = djoko_df[djoko_df['Tournament'] == 'Australian Open']"
   ]
  },
  {
   "cell_type": "code",
   "execution_count": 116,
   "metadata": {},
   "outputs": [
    {
     "data": {
      "text/plain": [
       "<seaborn.axisgrid.FacetGrid at 0x7ffb85f0fd60>"
      ]
     },
     "execution_count": 116,
     "metadata": {},
     "output_type": "execute_result"
    },
    {
     "data": {
      "image/png": "[encoded data removed]",
      "text/plain": [
       "<Figure size 360x360 with 1 Axes>"
      ]
     },
     "metadata": {
      "needs_background": "light"
     },
     "output_type": "display_data"
    }
   ],
   "source": [
    "sns.displot(djoko_aus['Dominance_Ratio'], color='blue')"
   ]
  },
  {
   "cell_type": "code",
   "execution_count": 117,
   "metadata": {},
   "outputs": [],
   "source": [
    "# Embora não possua a mesma quantidade de títulos que Nadal em Roland Garros, Djokovic possui \n",
    "# seu maior numero de titulos de Grand Slam na Australia, onde consistentemente supera seus adversários,\n",
    "# fato que é constatado no Dominance Ratio, que praticamente não fica abaixo de 1.0, sempre o colocando  \n",
    "# em uma situação de vantagem nas partidas"
   ]
  },
  {
   "cell_type": "code",
   "execution_count": 118,
   "metadata": {},
   "outputs": [],
   "source": [
    "federer_wim = federer_df[federer_df['Tournament'] == 'Wimbledon']"
   ]
  },
  {
   "cell_type": "code",
   "execution_count": 119,
   "metadata": {},
   "outputs": [
    {
     "data": {
      "text/plain": [
       "<seaborn.axisgrid.FacetGrid at 0x7ffb85c52700>"
      ]
     },
     "execution_count": 119,
     "metadata": {},
     "output_type": "execute_result"
    },
    {
     "data": {
      "image/png": "[encoded data removed]",
      "text/plain": [
       "<Figure size 360x360 with 1 Axes>"
      ]
     },
     "metadata": {
      "needs_background": "light"
     },
     "output_type": "display_data"
    }
   ],
   "source": [
    "sns.displot(federer_wim['Dominance_Ratio'], color = 'green')"
   ]
  },
  {
   "cell_type": "code",
   "execution_count": 120,
   "metadata": {},
   "outputs": [],
   "source": [
    "# A ultima decada não foi a melhor da carreira de Federer, que possui um total de 9 titulos no gramado de Wimbledon\n",
    "# No entanto fica claro sua dominância nas partidas no torneio de Londres"
   ]
  },
  {
   "cell_type": "markdown",
   "metadata": {},
   "source": [
    "<h3>Head2Head</h3>"
   ]
  },
  {
   "cell_type": "code",
   "execution_count": 147,
   "metadata": {},
   "outputs": [
    {
     "data": {
      "text/html": [
       "<div>\n",
       "<style scoped>\n",
       "    .dataframe tbody tr th:only-of-type {\n",
       "        vertical-align: middle;\n",
       "    }\n",
       "\n",
       "    .dataframe tbody tr th {\n",
       "        vertical-align: top;\n",
       "    }\n",
       "\n",
       "    .dataframe thead th {\n",
       "        text-align: right;\n",
       "    }\n",
       "</style>\n",
       "<table border=\"1\" class=\"dataframe\">\n",
       "  <thead>\n",
       "    <tr style=\"text-align: right;\">\n",
       "      <th></th>\n",
       "      <th>Year</th>\n",
       "      <th>Tournament</th>\n",
       "      <th>Surface</th>\n",
       "      <th>Rd</th>\n",
       "      <th>Rk</th>\n",
       "      <th>vRk</th>\n",
       "      <th>Opponent</th>\n",
       "      <th>Result</th>\n",
       "      <th>Score</th>\n",
       "      <th>Dominance_Ratio</th>\n",
       "      <th>...</th>\n",
       "      <th>2nd%</th>\n",
       "      <th>Break_Points_Saved</th>\n",
       "      <th>Total_Points_Won</th>\n",
       "      <th>Return_Points_Won</th>\n",
       "      <th>Ace_Rate_Against</th>\n",
       "      <th>1st_return%</th>\n",
       "      <th>2nd_return%</th>\n",
       "      <th>Break_Points_Converted</th>\n",
       "      <th>Time</th>\n",
       "      <th>Player</th>\n",
       "    </tr>\n",
       "  </thead>\n",
       "  <tbody>\n",
       "    <tr>\n",
       "      <th>33</th>\n",
       "      <td>2020</td>\n",
       "      <td>Australian Open</td>\n",
       "      <td>Hard</td>\n",
       "      <td>SF</td>\n",
       "      <td>2</td>\n",
       "      <td>3</td>\n",
       "      <td>Roger Federer</td>\n",
       "      <td>W</td>\n",
       "      <td>7-6(1) 6-4 6-3</td>\n",
       "      <td>1.31</td>\n",
       "      <td>...</td>\n",
       "      <td>0.54</td>\n",
       "      <td>5/7</td>\n",
       "      <td>0.55</td>\n",
       "      <td>0.42</td>\n",
       "      <td>0.14</td>\n",
       "      <td>0.34</td>\n",
       "      <td>0.58</td>\n",
       "      <td>4/11</td>\n",
       "      <td>2:18</td>\n",
       "      <td>Novak Djokovic</td>\n",
       "    </tr>\n",
       "    <tr>\n",
       "      <th>43</th>\n",
       "      <td>2019</td>\n",
       "      <td>Wimbledon</td>\n",
       "      <td>Grass</td>\n",
       "      <td>F</td>\n",
       "      <td>1</td>\n",
       "      <td>3</td>\n",
       "      <td>Roger Federer</td>\n",
       "      <td>W</td>\n",
       "      <td>7-6(5) 1-6 7-6(4) 4-6 13-12</td>\n",
       "      <td>0.87</td>\n",
       "      <td>...</td>\n",
       "      <td>0.47</td>\n",
       "      <td>6/13</td>\n",
       "      <td>0.48</td>\n",
       "      <td>0.32</td>\n",
       "      <td>0.12</td>\n",
       "      <td>0.21</td>\n",
       "      <td>0.49</td>\n",
       "      <td>3/8</td>\n",
       "      <td>4:57</td>\n",
       "      <td>Novak Djokovic</td>\n",
       "    </tr>\n",
       "    <tr>\n",
       "      <th>116</th>\n",
       "      <td>2016</td>\n",
       "      <td>Australian Open</td>\n",
       "      <td>Hard</td>\n",
       "      <td>SF</td>\n",
       "      <td>1</td>\n",
       "      <td>3</td>\n",
       "      <td>Roger Federer</td>\n",
       "      <td>W</td>\n",
       "      <td>6-1 6-2 3-6 6-3</td>\n",
       "      <td>1.64</td>\n",
       "      <td>...</td>\n",
       "      <td>0.66</td>\n",
       "      <td>3/4</td>\n",
       "      <td>0.58</td>\n",
       "      <td>0.44</td>\n",
       "      <td>0.05</td>\n",
       "      <td>0.39</td>\n",
       "      <td>0.51</td>\n",
       "      <td>5/9</td>\n",
       "      <td>2:19</td>\n",
       "      <td>Novak Djokovic</td>\n",
       "    </tr>\n",
       "    <tr>\n",
       "      <th>122</th>\n",
       "      <td>2015</td>\n",
       "      <td>US Open</td>\n",
       "      <td>Hard</td>\n",
       "      <td>F</td>\n",
       "      <td>1</td>\n",
       "      <td>2</td>\n",
       "      <td>Roger Federer</td>\n",
       "      <td>W</td>\n",
       "      <td>6-4 5-7 6-4 6-4</td>\n",
       "      <td>0.98</td>\n",
       "      <td>...</td>\n",
       "      <td>0.54</td>\n",
       "      <td>19/23</td>\n",
       "      <td>0.50</td>\n",
       "      <td>0.38</td>\n",
       "      <td>0.08</td>\n",
       "      <td>0.29</td>\n",
       "      <td>0.54</td>\n",
       "      <td>6/13</td>\n",
       "      <td>3:23</td>\n",
       "      <td>Novak Djokovic</td>\n",
       "    </tr>\n",
       "    <tr>\n",
       "      <th>129</th>\n",
       "      <td>2015</td>\n",
       "      <td>Wimbledon</td>\n",
       "      <td>Grass</td>\n",
       "      <td>F</td>\n",
       "      <td>1</td>\n",
       "      <td>2</td>\n",
       "      <td>Roger Federer</td>\n",
       "      <td>W</td>\n",
       "      <td>7-6(1) 6-7(10) 6-4 6-3</td>\n",
       "      <td>1.10</td>\n",
       "      <td>...</td>\n",
       "      <td>0.60</td>\n",
       "      <td>6/7</td>\n",
       "      <td>0.52</td>\n",
       "      <td>0.34</td>\n",
       "      <td>0.10</td>\n",
       "      <td>0.26</td>\n",
       "      <td>0.51</td>\n",
       "      <td>4/10</td>\n",
       "      <td>2:59</td>\n",
       "      <td>Novak Djokovic</td>\n",
       "    </tr>\n",
       "    <tr>\n",
       "      <th>156</th>\n",
       "      <td>2014</td>\n",
       "      <td>Wimbledon</td>\n",
       "      <td>Grass</td>\n",
       "      <td>F</td>\n",
       "      <td>2</td>\n",
       "      <td>4</td>\n",
       "      <td>Roger Federer</td>\n",
       "      <td>W</td>\n",
       "      <td>6-7(7) 6-4 7-6(4) 5-7 6-4</td>\n",
       "      <td>1.12</td>\n",
       "      <td>...</td>\n",
       "      <td>0.65</td>\n",
       "      <td>4/7</td>\n",
       "      <td>0.51</td>\n",
       "      <td>0.33</td>\n",
       "      <td>0.15</td>\n",
       "      <td>0.23</td>\n",
       "      <td>0.56</td>\n",
       "      <td>4/15</td>\n",
       "      <td>3:56</td>\n",
       "      <td>Novak Djokovic</td>\n",
       "    </tr>\n",
       "    <tr>\n",
       "      <th>209</th>\n",
       "      <td>2012</td>\n",
       "      <td>Wimbledon</td>\n",
       "      <td>Grass</td>\n",
       "      <td>SF</td>\n",
       "      <td>1</td>\n",
       "      <td>3</td>\n",
       "      <td>Roger Federer</td>\n",
       "      <td>L</td>\n",
       "      <td>6-3 3-6 6-4 6-3</td>\n",
       "      <td>0.76</td>\n",
       "      <td>...</td>\n",
       "      <td>0.57</td>\n",
       "      <td>8/11</td>\n",
       "      <td>0.47</td>\n",
       "      <td>0.26</td>\n",
       "      <td>0.12</td>\n",
       "      <td>0.25</td>\n",
       "      <td>0.28</td>\n",
       "      <td>1/3</td>\n",
       "      <td>2:19</td>\n",
       "      <td>Novak Djokovic</td>\n",
       "    </tr>\n",
       "    <tr>\n",
       "      <th>216</th>\n",
       "      <td>2012</td>\n",
       "      <td>Roland Garros</td>\n",
       "      <td>Clay</td>\n",
       "      <td>SF</td>\n",
       "      <td>1</td>\n",
       "      <td>3</td>\n",
       "      <td>Roger Federer</td>\n",
       "      <td>W</td>\n",
       "      <td>6-4 7-5 6-3</td>\n",
       "      <td>1.39</td>\n",
       "      <td>...</td>\n",
       "      <td>0.48</td>\n",
       "      <td>4/8</td>\n",
       "      <td>0.57</td>\n",
       "      <td>0.49</td>\n",
       "      <td>0.11</td>\n",
       "      <td>0.44</td>\n",
       "      <td>0.55</td>\n",
       "      <td>7/10</td>\n",
       "      <td>2:05</td>\n",
       "      <td>Novak Djokovic</td>\n",
       "    </tr>\n",
       "    <tr>\n",
       "      <th>230</th>\n",
       "      <td>2011</td>\n",
       "      <td>US Open</td>\n",
       "      <td>Hard</td>\n",
       "      <td>SF</td>\n",
       "      <td>1</td>\n",
       "      <td>3</td>\n",
       "      <td>Roger Federer</td>\n",
       "      <td>W</td>\n",
       "      <td>6-7(7) 4-6 6-3 6-2 7-5</td>\n",
       "      <td>1.30</td>\n",
       "      <td>...</td>\n",
       "      <td>0.55</td>\n",
       "      <td>2/5</td>\n",
       "      <td>0.53</td>\n",
       "      <td>0.37</td>\n",
       "      <td>0.07</td>\n",
       "      <td>0.33</td>\n",
       "      <td>0.44</td>\n",
       "      <td>6/12</td>\n",
       "      <td>3:51</td>\n",
       "      <td>Novak Djokovic</td>\n",
       "    </tr>\n",
       "  </tbody>\n",
       "</table>\n",
       "<p>9 rows × 24 columns</p>\n",
       "</div>"
      ],
      "text/plain": [
       "     Year       Tournament Surface  Rd  Rk  vRk       Opponent Result  \\\n",
       "33   2020  Australian Open    Hard  SF   2    3  Roger Federer      W   \n",
       "43   2019        Wimbledon   Grass   F   1    3  Roger Federer      W   \n",
       "116  2016  Australian Open    Hard  SF   1    3  Roger Federer      W   \n",
       "122  2015          US Open    Hard   F   1    2  Roger Federer      W   \n",
       "129  2015        Wimbledon   Grass   F   1    2  Roger Federer      W   \n",
       "156  2014        Wimbledon   Grass   F   2    4  Roger Federer      W   \n",
       "209  2012        Wimbledon   Grass  SF   1    3  Roger Federer      L   \n",
       "216  2012    Roland Garros    Clay  SF   1    3  Roger Federer      W   \n",
       "230  2011          US Open    Hard  SF   1    3  Roger Federer      W   \n",
       "\n",
       "                           Score  Dominance_Ratio  ...  2nd%  \\\n",
       "33                7-6(1) 6-4 6-3             1.31  ...  0.54   \n",
       "43   7-6(5) 1-6 7-6(4) 4-6 13-12             0.87  ...  0.47   \n",
       "116              6-1 6-2 3-6 6-3             1.64  ...  0.66   \n",
       "122              6-4 5-7 6-4 6-4             0.98  ...  0.54   \n",
       "129       7-6(1) 6-7(10) 6-4 6-3             1.10  ...  0.60   \n",
       "156    6-7(7) 6-4 7-6(4) 5-7 6-4             1.12  ...  0.65   \n",
       "209              6-3 3-6 6-4 6-3             0.76  ...  0.57   \n",
       "216                  6-4 7-5 6-3             1.39  ...  0.48   \n",
       "230       6-7(7) 4-6 6-3 6-2 7-5             1.30  ...  0.55   \n",
       "\n",
       "     Break_Points_Saved  Total_Points_Won  Return_Points_Won  \\\n",
       "33                  5/7              0.55               0.42   \n",
       "43                 6/13              0.48               0.32   \n",
       "116                 3/4              0.58               0.44   \n",
       "122               19/23              0.50               0.38   \n",
       "129                 6/7              0.52               0.34   \n",
       "156                 4/7              0.51               0.33   \n",
       "209                8/11              0.47               0.26   \n",
       "216                 4/8              0.57               0.49   \n",
       "230                 2/5              0.53               0.37   \n",
       "\n",
       "     Ace_Rate_Against 1st_return%  2nd_return%  Break_Points_Converted  Time  \\\n",
       "33               0.14        0.34         0.58                    4/11  2:18   \n",
       "43               0.12        0.21         0.49                     3/8  4:57   \n",
       "116              0.05        0.39         0.51                     5/9  2:19   \n",
       "122              0.08        0.29         0.54                    6/13  3:23   \n",
       "129              0.10        0.26         0.51                    4/10  2:59   \n",
       "156              0.15        0.23         0.56                    4/15  3:56   \n",
       "209              0.12        0.25         0.28                     1/3  2:19   \n",
       "216              0.11        0.44         0.55                    7/10  2:05   \n",
       "230              0.07        0.33         0.44                    6/12  3:51   \n",
       "\n",
       "             Player  \n",
       "33   Novak Djokovic  \n",
       "43   Novak Djokovic  \n",
       "116  Novak Djokovic  \n",
       "122  Novak Djokovic  \n",
       "129  Novak Djokovic  \n",
       "156  Novak Djokovic  \n",
       "209  Novak Djokovic  \n",
       "216  Novak Djokovic  \n",
       "230  Novak Djokovic  \n",
       "\n",
       "[9 rows x 24 columns]"
      ]
     },
     "execution_count": 147,
     "metadata": {},
     "output_type": "execute_result"
    }
   ],
   "source": [
    "djoko_df[djoko_df['Opponent'] == 'Roger Federer']"
   ]
  },
  {
   "cell_type": "code",
   "execution_count": 138,
   "metadata": {},
   "outputs": [
    {
     "data": {
      "text/plain": [
       "<AxesSubplot:xlabel='Result', ylabel='count'>"
      ]
     },
     "execution_count": 138,
     "metadata": {},
     "output_type": "execute_result"
    },
    {
     "data": {
      "image/png": "[encoded data removed]",
      "text/plain": [
       "<Figure size 432x288 with 1 Axes>"
      ]
     },
     "metadata": {
      "needs_background": "light"
     },
     "output_type": "display_data"
    }
   ],
   "source": [
    "sns.countplot(x=\"Result\", hue=\"Tournament\", data=djoko_df[djoko_df['Opponent'] == 'Roger Federer'],\n",
    "             hue_order = ['Australian Open', 'Roland Garros', 'Wimbledon', 'US Open'], order=[\"W\", \"L\"],\n",
    "             edgecolor='black')"
   ]
  },
  {
   "cell_type": "code",
   "execution_count": 139,
   "metadata": {},
   "outputs": [
    {
     "data": {
      "text/html": [
       "<div>\n",
       "<style scoped>\n",
       "    .dataframe tbody tr th:only-of-type {\n",
       "        vertical-align: middle;\n",
       "    }\n",
       "\n",
       "    .dataframe tbody tr th {\n",
       "        vertical-align: top;\n",
       "    }\n",
       "\n",
       "    .dataframe thead th {\n",
       "        text-align: right;\n",
       "    }\n",
       "</style>\n",
       "<table border=\"1\" class=\"dataframe\">\n",
       "  <thead>\n",
       "    <tr style=\"text-align: right;\">\n",
       "      <th></th>\n",
       "      <th>Year</th>\n",
       "      <th>Tournament</th>\n",
       "      <th>Surface</th>\n",
       "      <th>Rd</th>\n",
       "      <th>Rk</th>\n",
       "      <th>vRk</th>\n",
       "      <th>Opponent</th>\n",
       "      <th>Result</th>\n",
       "      <th>Score</th>\n",
       "      <th>Dominance_Ratio</th>\n",
       "      <th>...</th>\n",
       "      <th>2nd%</th>\n",
       "      <th>Break_Points_Saved</th>\n",
       "      <th>Total_Points_Won</th>\n",
       "      <th>Return_Points_Won</th>\n",
       "      <th>Ace_Rate_Against</th>\n",
       "      <th>1st_return%</th>\n",
       "      <th>2nd_return%</th>\n",
       "      <th>Break_Points_Converted</th>\n",
       "      <th>Time</th>\n",
       "      <th>Player</th>\n",
       "    </tr>\n",
       "  </thead>\n",
       "  <tbody>\n",
       "    <tr>\n",
       "      <th>8</th>\n",
       "      <td>2021</td>\n",
       "      <td>Roland Garros</td>\n",
       "      <td>Clay</td>\n",
       "      <td>SF</td>\n",
       "      <td>1</td>\n",
       "      <td>3</td>\n",
       "      <td>Rafael Nadal</td>\n",
       "      <td>W</td>\n",
       "      <td>3-6 6-3 7-6(4) 6-2</td>\n",
       "      <td>1.17</td>\n",
       "      <td>...</td>\n",
       "      <td>0.50</td>\n",
       "      <td>10/16</td>\n",
       "      <td>0.53</td>\n",
       "      <td>0.47</td>\n",
       "      <td>0.05</td>\n",
       "      <td>0.41</td>\n",
       "      <td>0.60</td>\n",
       "      <td>8/22</td>\n",
       "      <td>4:11</td>\n",
       "      <td>Novak Djokovic</td>\n",
       "    </tr>\n",
       "    <tr>\n",
       "      <th>21</th>\n",
       "      <td>2020</td>\n",
       "      <td>Roland Garros</td>\n",
       "      <td>Clay</td>\n",
       "      <td>F</td>\n",
       "      <td>1</td>\n",
       "      <td>2</td>\n",
       "      <td>Rafael Nadal</td>\n",
       "      <td>L</td>\n",
       "      <td>6-0 6-2 7-5</td>\n",
       "      <td>0.66</td>\n",
       "      <td>...</td>\n",
       "      <td>0.49</td>\n",
       "      <td>11/18</td>\n",
       "      <td>0.42</td>\n",
       "      <td>0.33</td>\n",
       "      <td>0.05</td>\n",
       "      <td>0.33</td>\n",
       "      <td>0.35</td>\n",
       "      <td>1/5</td>\n",
       "      <td>2:41</td>\n",
       "      <td>Novak Djokovic</td>\n",
       "    </tr>\n",
       "    <tr>\n",
       "      <th>56</th>\n",
       "      <td>2019</td>\n",
       "      <td>Australian Open</td>\n",
       "      <td>Hard</td>\n",
       "      <td>F</td>\n",
       "      <td>1</td>\n",
       "      <td>2</td>\n",
       "      <td>Rafael Nadal</td>\n",
       "      <td>W</td>\n",
       "      <td>6-3 6-2 6-3</td>\n",
       "      <td>2.40</td>\n",
       "      <td>...</td>\n",
       "      <td>0.84</td>\n",
       "      <td>1/1</td>\n",
       "      <td>0.63</td>\n",
       "      <td>0.45</td>\n",
       "      <td>0.04</td>\n",
       "      <td>0.49</td>\n",
       "      <td>0.39</td>\n",
       "      <td>5/8</td>\n",
       "      <td>2:04</td>\n",
       "      <td>Novak Djokovic</td>\n",
       "    </tr>\n",
       "    <tr>\n",
       "      <th>71</th>\n",
       "      <td>2018</td>\n",
       "      <td>Wimbledon</td>\n",
       "      <td>Grass</td>\n",
       "      <td>SF</td>\n",
       "      <td>21</td>\n",
       "      <td>1</td>\n",
       "      <td>Rafael Nadal</td>\n",
       "      <td>W</td>\n",
       "      <td>6-4 3-6 7-6(9) 3-6 10-8</td>\n",
       "      <td>1.12</td>\n",
       "      <td>...</td>\n",
       "      <td>0.47</td>\n",
       "      <td>7/11</td>\n",
       "      <td>0.51</td>\n",
       "      <td>0.36</td>\n",
       "      <td>0.04</td>\n",
       "      <td>0.33</td>\n",
       "      <td>0.43</td>\n",
       "      <td>4/19</td>\n",
       "      <td>5:15</td>\n",
       "      <td>Novak Djokovic</td>\n",
       "    </tr>\n",
       "    <tr>\n",
       "      <th>138</th>\n",
       "      <td>2015</td>\n",
       "      <td>Roland Garros</td>\n",
       "      <td>Clay</td>\n",
       "      <td>QF</td>\n",
       "      <td>1</td>\n",
       "      <td>7</td>\n",
       "      <td>Rafael Nadal</td>\n",
       "      <td>W</td>\n",
       "      <td>7-5 6-3 6-1</td>\n",
       "      <td>1.65</td>\n",
       "      <td>...</td>\n",
       "      <td>0.60</td>\n",
       "      <td>3/5</td>\n",
       "      <td>0.59</td>\n",
       "      <td>0.50</td>\n",
       "      <td>0.03</td>\n",
       "      <td>0.41</td>\n",
       "      <td>0.62</td>\n",
       "      <td>7/18</td>\n",
       "      <td>2:26</td>\n",
       "      <td>Novak Djokovic</td>\n",
       "    </tr>\n",
       "    <tr>\n",
       "      <th>163</th>\n",
       "      <td>2014</td>\n",
       "      <td>Roland Garros</td>\n",
       "      <td>Clay</td>\n",
       "      <td>F</td>\n",
       "      <td>2</td>\n",
       "      <td>1</td>\n",
       "      <td>Rafael Nadal</td>\n",
       "      <td>L</td>\n",
       "      <td>3-6 7-5 6-2 6-4</td>\n",
       "      <td>0.84</td>\n",
       "      <td>...</td>\n",
       "      <td>0.36</td>\n",
       "      <td>4/10</td>\n",
       "      <td>0.47</td>\n",
       "      <td>0.34</td>\n",
       "      <td>0.03</td>\n",
       "      <td>0.27</td>\n",
       "      <td>0.50</td>\n",
       "      <td>3/9</td>\n",
       "      <td>3:31</td>\n",
       "      <td>Novak Djokovic</td>\n",
       "    </tr>\n",
       "    <tr>\n",
       "      <th>175</th>\n",
       "      <td>2013</td>\n",
       "      <td>US Open</td>\n",
       "      <td>Hard</td>\n",
       "      <td>F</td>\n",
       "      <td>1</td>\n",
       "      <td>2</td>\n",
       "      <td>Rafael Nadal</td>\n",
       "      <td>L</td>\n",
       "      <td>6-2 3-6 6-4 6-1</td>\n",
       "      <td>0.84</td>\n",
       "      <td>...</td>\n",
       "      <td>0.49</td>\n",
       "      <td>5/11</td>\n",
       "      <td>0.46</td>\n",
       "      <td>0.38</td>\n",
       "      <td>0.01</td>\n",
       "      <td>0.35</td>\n",
       "      <td>0.44</td>\n",
       "      <td>3/11</td>\n",
       "      <td>3:21</td>\n",
       "      <td>Novak Djokovic</td>\n",
       "    </tr>\n",
       "    <tr>\n",
       "      <th>189</th>\n",
       "      <td>2013</td>\n",
       "      <td>Roland Garros</td>\n",
       "      <td>Clay</td>\n",
       "      <td>SF</td>\n",
       "      <td>1</td>\n",
       "      <td>4</td>\n",
       "      <td>Rafael Nadal</td>\n",
       "      <td>L</td>\n",
       "      <td>6-4 3-6 6-1 6-7(3) 9-7</td>\n",
       "      <td>0.82</td>\n",
       "      <td>...</td>\n",
       "      <td>0.53</td>\n",
       "      <td>8/16</td>\n",
       "      <td>0.47</td>\n",
       "      <td>0.33</td>\n",
       "      <td>0.04</td>\n",
       "      <td>0.28</td>\n",
       "      <td>0.40</td>\n",
       "      <td>5/9</td>\n",
       "      <td>4:37</td>\n",
       "      <td>Novak Djokovic</td>\n",
       "    </tr>\n",
       "    <tr>\n",
       "      <th>215</th>\n",
       "      <td>2012</td>\n",
       "      <td>Roland Garros</td>\n",
       "      <td>Clay</td>\n",
       "      <td>F</td>\n",
       "      <td>1</td>\n",
       "      <td>2</td>\n",
       "      <td>Rafael Nadal</td>\n",
       "      <td>L</td>\n",
       "      <td>6-4 6-3 2-6 7-5</td>\n",
       "      <td>0.91</td>\n",
       "      <td>...</td>\n",
       "      <td>0.44</td>\n",
       "      <td>8/17</td>\n",
       "      <td>0.48</td>\n",
       "      <td>0.42</td>\n",
       "      <td>0.03</td>\n",
       "      <td>0.38</td>\n",
       "      <td>0.47</td>\n",
       "      <td>7/10</td>\n",
       "      <td>3:49</td>\n",
       "      <td>Novak Djokovic</td>\n",
       "    </tr>\n",
       "    <tr>\n",
       "      <th>222</th>\n",
       "      <td>2012</td>\n",
       "      <td>Australian Open</td>\n",
       "      <td>Hard</td>\n",
       "      <td>F</td>\n",
       "      <td>1</td>\n",
       "      <td>2</td>\n",
       "      <td>Rafael Nadal</td>\n",
       "      <td>W</td>\n",
       "      <td>5-7 6-4 6-2 6-7(5) 7-5</td>\n",
       "      <td>1.21</td>\n",
       "      <td>...</td>\n",
       "      <td>0.63</td>\n",
       "      <td>2/6</td>\n",
       "      <td>0.52</td>\n",
       "      <td>0.41</td>\n",
       "      <td>0.05</td>\n",
       "      <td>0.35</td>\n",
       "      <td>0.53</td>\n",
       "      <td>7/20</td>\n",
       "      <td>5:53</td>\n",
       "      <td>Novak Djokovic</td>\n",
       "    </tr>\n",
       "    <tr>\n",
       "      <th>229</th>\n",
       "      <td>2011</td>\n",
       "      <td>US Open</td>\n",
       "      <td>Hard</td>\n",
       "      <td>F</td>\n",
       "      <td>1</td>\n",
       "      <td>2</td>\n",
       "      <td>Rafael Nadal</td>\n",
       "      <td>W</td>\n",
       "      <td>6-2 6-4 6-7(3) 6-1</td>\n",
       "      <td>1.22</td>\n",
       "      <td>...</td>\n",
       "      <td>0.44</td>\n",
       "      <td>8/14</td>\n",
       "      <td>0.55</td>\n",
       "      <td>0.51</td>\n",
       "      <td>0.01</td>\n",
       "      <td>0.48</td>\n",
       "      <td>0.58</td>\n",
       "      <td>12/27</td>\n",
       "      <td>4:10</td>\n",
       "      <td>Novak Djokovic</td>\n",
       "    </tr>\n",
       "  </tbody>\n",
       "</table>\n",
       "<p>11 rows × 24 columns</p>\n",
       "</div>"
      ],
      "text/plain": [
       "     Year       Tournament Surface  Rd  Rk  vRk      Opponent Result  \\\n",
       "8    2021    Roland Garros    Clay  SF   1    3  Rafael Nadal      W   \n",
       "21   2020    Roland Garros    Clay   F   1    2  Rafael Nadal      L   \n",
       "56   2019  Australian Open    Hard   F   1    2  Rafael Nadal      W   \n",
       "71   2018        Wimbledon   Grass  SF  21    1  Rafael Nadal      W   \n",
       "138  2015    Roland Garros    Clay  QF   1    7  Rafael Nadal      W   \n",
       "163  2014    Roland Garros    Clay   F   2    1  Rafael Nadal      L   \n",
       "175  2013          US Open    Hard   F   1    2  Rafael Nadal      L   \n",
       "189  2013    Roland Garros    Clay  SF   1    4  Rafael Nadal      L   \n",
       "215  2012    Roland Garros    Clay   F   1    2  Rafael Nadal      L   \n",
       "222  2012  Australian Open    Hard   F   1    2  Rafael Nadal      W   \n",
       "229  2011          US Open    Hard   F   1    2  Rafael Nadal      W   \n",
       "\n",
       "                       Score  Dominance_Ratio  ...  2nd%  Break_Points_Saved  \\\n",
       "8         3-6 6-3 7-6(4) 6-2             1.17  ...  0.50               10/16   \n",
       "21               6-0 6-2 7-5             0.66  ...  0.49               11/18   \n",
       "56               6-3 6-2 6-3             2.40  ...  0.84                 1/1   \n",
       "71   6-4 3-6 7-6(9) 3-6 10-8             1.12  ...  0.47                7/11   \n",
       "138              7-5 6-3 6-1             1.65  ...  0.60                 3/5   \n",
       "163          3-6 7-5 6-2 6-4             0.84  ...  0.36                4/10   \n",
       "175          6-2 3-6 6-4 6-1             0.84  ...  0.49                5/11   \n",
       "189   6-4 3-6 6-1 6-7(3) 9-7             0.82  ...  0.53                8/16   \n",
       "215          6-4 6-3 2-6 7-5             0.91  ...  0.44                8/17   \n",
       "222   5-7 6-4 6-2 6-7(5) 7-5             1.21  ...  0.63                 2/6   \n",
       "229       6-2 6-4 6-7(3) 6-1             1.22  ...  0.44                8/14   \n",
       "\n",
       "     Total_Points_Won  Return_Points_Won  Ace_Rate_Against 1st_return%  \\\n",
       "8                0.53               0.47              0.05        0.41   \n",
       "21               0.42               0.33              0.05        0.33   \n",
       "56               0.63               0.45              0.04        0.49   \n",
       "71               0.51               0.36              0.04        0.33   \n",
       "138              0.59               0.50              0.03        0.41   \n",
       "163              0.47               0.34              0.03        0.27   \n",
       "175              0.46               0.38              0.01        0.35   \n",
       "189              0.47               0.33              0.04        0.28   \n",
       "215              0.48               0.42              0.03        0.38   \n",
       "222              0.52               0.41              0.05        0.35   \n",
       "229              0.55               0.51              0.01        0.48   \n",
       "\n",
       "     2nd_return%  Break_Points_Converted  Time          Player  \n",
       "8           0.60                    8/22  4:11  Novak Djokovic  \n",
       "21          0.35                     1/5  2:41  Novak Djokovic  \n",
       "56          0.39                     5/8  2:04  Novak Djokovic  \n",
       "71          0.43                    4/19  5:15  Novak Djokovic  \n",
       "138         0.62                    7/18  2:26  Novak Djokovic  \n",
       "163         0.50                     3/9  3:31  Novak Djokovic  \n",
       "175         0.44                    3/11  3:21  Novak Djokovic  \n",
       "189         0.40                     5/9  4:37  Novak Djokovic  \n",
       "215         0.47                    7/10  3:49  Novak Djokovic  \n",
       "222         0.53                    7/20  5:53  Novak Djokovic  \n",
       "229         0.58                   12/27  4:10  Novak Djokovic  \n",
       "\n",
       "[11 rows x 24 columns]"
      ]
     },
     "execution_count": 139,
     "metadata": {},
     "output_type": "execute_result"
    }
   ],
   "source": [
    "djoko_df[djoko_df['Opponent'] == 'Rafael Nadal']"
   ]
  },
  {
   "cell_type": "code",
   "execution_count": 140,
   "metadata": {},
   "outputs": [
    {
     "data": {
      "text/plain": [
       "<AxesSubplot:xlabel='Result', ylabel='count'>"
      ]
     },
     "execution_count": 140,
     "metadata": {},
     "output_type": "execute_result"
    },
    {
     "data": {
      "image/png": "[encoded data removed]",
      "text/plain": [
       "<Figure size 432x288 with 1 Axes>"
      ]
     },
     "metadata": {
      "needs_background": "light"
     },
     "output_type": "display_data"
    }
   ],
   "source": [
    "sns.countplot(x=\"Result\", hue=\"Tournament\", data=djoko_df[djoko_df['Opponent'] == 'Rafael Nadal'],\n",
    "             hue_order = ['Australian Open', 'Roland Garros', 'Wimbledon', 'US Open'], order=[\"W\", \"L\"],\n",
    "             edgecolor='black')"
   ]
  },
  {
   "cell_type": "code",
   "execution_count": 141,
   "metadata": {},
   "outputs": [
    {
     "data": {
      "text/html": [
       "<div>\n",
       "<style scoped>\n",
       "    .dataframe tbody tr th:only-of-type {\n",
       "        vertical-align: middle;\n",
       "    }\n",
       "\n",
       "    .dataframe tbody tr th {\n",
       "        vertical-align: top;\n",
       "    }\n",
       "\n",
       "    .dataframe thead th {\n",
       "        text-align: right;\n",
       "    }\n",
       "</style>\n",
       "<table border=\"1\" class=\"dataframe\">\n",
       "  <thead>\n",
       "    <tr style=\"text-align: right;\">\n",
       "      <th></th>\n",
       "      <th>Year</th>\n",
       "      <th>Tournament</th>\n",
       "      <th>Surface</th>\n",
       "      <th>Rd</th>\n",
       "      <th>Rk</th>\n",
       "      <th>vRk</th>\n",
       "      <th>Opponent</th>\n",
       "      <th>Result</th>\n",
       "      <th>Score</th>\n",
       "      <th>Dominance_Ratio</th>\n",
       "      <th>...</th>\n",
       "      <th>2nd%</th>\n",
       "      <th>Break_Points_Saved</th>\n",
       "      <th>Total_Points_Won</th>\n",
       "      <th>Return_Points_Won</th>\n",
       "      <th>Ace_Rate_Against</th>\n",
       "      <th>1st_return%</th>\n",
       "      <th>2nd_return%</th>\n",
       "      <th>Break_Points_Converted</th>\n",
       "      <th>Time</th>\n",
       "      <th>Player</th>\n",
       "    </tr>\n",
       "  </thead>\n",
       "  <tbody>\n",
       "    <tr>\n",
       "      <th>30</th>\n",
       "      <td>2019</td>\n",
       "      <td>Wimbledon</td>\n",
       "      <td>Grass</td>\n",
       "      <td>SF</td>\n",
       "      <td>2</td>\n",
       "      <td>3</td>\n",
       "      <td>Roger Federer</td>\n",
       "      <td>L</td>\n",
       "      <td>7-6(3) 1-6 6-3 6-4</td>\n",
       "      <td>0.85</td>\n",
       "      <td>...</td>\n",
       "      <td>0.48</td>\n",
       "      <td>8/10</td>\n",
       "      <td>0.48</td>\n",
       "      <td>0.30</td>\n",
       "      <td>0.12</td>\n",
       "      <td>0.27</td>\n",
       "      <td>0.38</td>\n",
       "      <td>2/8</td>\n",
       "      <td>3:02</td>\n",
       "      <td>Rafael Nadal</td>\n",
       "    </tr>\n",
       "    <tr>\n",
       "      <th>37</th>\n",
       "      <td>2019</td>\n",
       "      <td>Roland Garros</td>\n",
       "      <td>Clay</td>\n",
       "      <td>SF</td>\n",
       "      <td>2</td>\n",
       "      <td>3</td>\n",
       "      <td>Roger Federer</td>\n",
       "      <td>W</td>\n",
       "      <td>6-3 6-4 6-2</td>\n",
       "      <td>1.39</td>\n",
       "      <td>...</td>\n",
       "      <td>0.56</td>\n",
       "      <td>2/4</td>\n",
       "      <td>0.56</td>\n",
       "      <td>0.47</td>\n",
       "      <td>0.03</td>\n",
       "      <td>0.38</td>\n",
       "      <td>0.61</td>\n",
       "      <td>6/16</td>\n",
       "      <td>2:25</td>\n",
       "      <td>Rafael Nadal</td>\n",
       "    </tr>\n",
       "    <tr>\n",
       "      <th>92</th>\n",
       "      <td>2017</td>\n",
       "      <td>Australian Open</td>\n",
       "      <td>Hard</td>\n",
       "      <td>F</td>\n",
       "      <td>9</td>\n",
       "      <td>17</td>\n",
       "      <td>Roger Federer</td>\n",
       "      <td>L</td>\n",
       "      <td>6-4 3-6 6-1 3-6 6-3</td>\n",
       "      <td>0.87</td>\n",
       "      <td>...</td>\n",
       "      <td>0.56</td>\n",
       "      <td>14/20</td>\n",
       "      <td>0.48</td>\n",
       "      <td>0.34</td>\n",
       "      <td>0.15</td>\n",
       "      <td>0.24</td>\n",
       "      <td>0.51</td>\n",
       "      <td>4/17</td>\n",
       "      <td>3:37</td>\n",
       "      <td>Rafael Nadal</td>\n",
       "    </tr>\n",
       "    <tr>\n",
       "      <th>134</th>\n",
       "      <td>2014</td>\n",
       "      <td>Australian Open</td>\n",
       "      <td>Hard</td>\n",
       "      <td>SF</td>\n",
       "      <td>1</td>\n",
       "      <td>6</td>\n",
       "      <td>Roger Federer</td>\n",
       "      <td>W</td>\n",
       "      <td>7-6(4) 6-3 6-3</td>\n",
       "      <td>1.50</td>\n",
       "      <td>...</td>\n",
       "      <td>0.73</td>\n",
       "      <td>1/2</td>\n",
       "      <td>0.55</td>\n",
       "      <td>0.40</td>\n",
       "      <td>0.08</td>\n",
       "      <td>0.35</td>\n",
       "      <td>0.50</td>\n",
       "      <td>4/14</td>\n",
       "      <td>2:24</td>\n",
       "      <td>Rafael Nadal</td>\n",
       "    </tr>\n",
       "    <tr>\n",
       "      <th>164</th>\n",
       "      <td>2012</td>\n",
       "      <td>Australian Open</td>\n",
       "      <td>Hard</td>\n",
       "      <td>SF</td>\n",
       "      <td>2</td>\n",
       "      <td>3</td>\n",
       "      <td>Roger Federer</td>\n",
       "      <td>W</td>\n",
       "      <td>6-7(5) 6-2 7-6(5) 6-4</td>\n",
       "      <td>1.16</td>\n",
       "      <td>...</td>\n",
       "      <td>0.63</td>\n",
       "      <td>7/10</td>\n",
       "      <td>0.53</td>\n",
       "      <td>0.38</td>\n",
       "      <td>0.08</td>\n",
       "      <td>0.34</td>\n",
       "      <td>0.45</td>\n",
       "      <td>6/16</td>\n",
       "      <td>3:42</td>\n",
       "      <td>Rafael Nadal</td>\n",
       "    </tr>\n",
       "  </tbody>\n",
       "</table>\n",
       "<p>5 rows × 24 columns</p>\n",
       "</div>"
      ],
      "text/plain": [
       "     Year       Tournament Surface  Rd  Rk  vRk       Opponent Result  \\\n",
       "30   2019        Wimbledon   Grass  SF   2    3  Roger Federer      L   \n",
       "37   2019    Roland Garros    Clay  SF   2    3  Roger Federer      W   \n",
       "92   2017  Australian Open    Hard   F   9   17  Roger Federer      L   \n",
       "134  2014  Australian Open    Hard  SF   1    6  Roger Federer      W   \n",
       "164  2012  Australian Open    Hard  SF   2    3  Roger Federer      W   \n",
       "\n",
       "                     Score  Dominance_Ratio  ...  2nd%  Break_Points_Saved  \\\n",
       "30      7-6(3) 1-6 6-3 6-4             0.85  ...  0.48                8/10   \n",
       "37             6-3 6-4 6-2             1.39  ...  0.56                 2/4   \n",
       "92     6-4 3-6 6-1 3-6 6-3             0.87  ...  0.56               14/20   \n",
       "134         7-6(4) 6-3 6-3             1.50  ...  0.73                 1/2   \n",
       "164  6-7(5) 6-2 7-6(5) 6-4             1.16  ...  0.63                7/10   \n",
       "\n",
       "     Total_Points_Won  Return_Points_Won  Ace_Rate_Against 1st_return%  \\\n",
       "30               0.48               0.30              0.12        0.27   \n",
       "37               0.56               0.47              0.03        0.38   \n",
       "92               0.48               0.34              0.15        0.24   \n",
       "134              0.55               0.40              0.08        0.35   \n",
       "164              0.53               0.38              0.08        0.34   \n",
       "\n",
       "     2nd_return%  Break_Points_Converted  Time        Player  \n",
       "30          0.38                     2/8  3:02  Rafael Nadal  \n",
       "37          0.61                    6/16  2:25  Rafael Nadal  \n",
       "92          0.51                    4/17  3:37  Rafael Nadal  \n",
       "134         0.50                    4/14  2:24  Rafael Nadal  \n",
       "164         0.45                    6/16  3:42  Rafael Nadal  \n",
       "\n",
       "[5 rows x 24 columns]"
      ]
     },
     "execution_count": 141,
     "metadata": {},
     "output_type": "execute_result"
    }
   ],
   "source": [
    "nadal_df[nadal_df['Opponent'] == 'Roger Federer']\n",
    "h2h_nadal_federer = "
   ]
  },
  {
   "cell_type": "code",
   "execution_count": 142,
   "metadata": {},
   "outputs": [
    {
     "data": {
      "text/plain": [
       "<AxesSubplot:xlabel='Result', ylabel='count'>"
      ]
     },
     "execution_count": 142,
     "metadata": {},
     "output_type": "execute_result"
    },
    {
     "data": {
      "image/png": "[encoded data removed]",
      "text/plain": [
       "<Figure size 432x288 with 1 Axes>"
      ]
     },
     "metadata": {
      "needs_background": "light"
     },
     "output_type": "display_data"
    }
   ],
   "source": [
    "sns.countplot(x=\"Result\", hue=\"Tournament\", data=nadal_df[nadal_df['Opponent'] == 'Roger Federer'],\n",
    "             hue_order = ['Australian Open', 'Roland Garros', 'Wimbledon', 'US Open'], order=[\"W\", \"L\"],\n",
    "             edgecolor='black')"
   ]
  },
  {
   "cell_type": "markdown",
   "metadata": {},
   "source": [
    "<h1> Testes de Hipotese </h1>"
   ]
  },
  {
   "cell_type": "code",
   "execution_count": 184,
   "metadata": {},
   "outputs": [],
   "source": [
    "# Vamos analisar a diferença do percentual de pontos ganhos quando o tenista joga com o primeiro saque\n",
    "# e quando joga com o segundo saque"
   ]
  },
  {
   "cell_type": "markdown",
   "metadata": {},
   "source": [
    "<h4>Novak Djokovic</h4>"
   ]
  },
  {
   "cell_type": "code",
   "execution_count": 188,
   "metadata": {},
   "outputs": [],
   "source": [
    "df = djoko_df[['1st%', '2nd%']]"
   ]
  },
  {
   "cell_type": "code",
   "execution_count": 189,
   "metadata": {},
   "outputs": [
    {
     "data": {
      "text/html": [
       "<div>\n",
       "<style scoped>\n",
       "    .dataframe tbody tr th:only-of-type {\n",
       "        vertical-align: middle;\n",
       "    }\n",
       "\n",
       "    .dataframe tbody tr th {\n",
       "        vertical-align: top;\n",
       "    }\n",
       "\n",
       "    .dataframe thead th {\n",
       "        text-align: right;\n",
       "    }\n",
       "</style>\n",
       "<table border=\"1\" class=\"dataframe\">\n",
       "  <thead>\n",
       "    <tr style=\"text-align: right;\">\n",
       "      <th></th>\n",
       "      <th>1st%</th>\n",
       "      <th>2nd%</th>\n",
       "    </tr>\n",
       "  </thead>\n",
       "  <tbody>\n",
       "    <tr>\n",
       "      <th>count</th>\n",
       "      <td>235.000000</td>\n",
       "      <td>235.000000</td>\n",
       "    </tr>\n",
       "    <tr>\n",
       "      <th>mean</th>\n",
       "      <td>0.765319</td>\n",
       "      <td>0.595702</td>\n",
       "    </tr>\n",
       "    <tr>\n",
       "      <th>std</th>\n",
       "      <td>0.078005</td>\n",
       "      <td>0.104046</td>\n",
       "    </tr>\n",
       "    <tr>\n",
       "      <th>min</th>\n",
       "      <td>0.500000</td>\n",
       "      <td>0.360000</td>\n",
       "    </tr>\n",
       "    <tr>\n",
       "      <th>25%</th>\n",
       "      <td>0.720000</td>\n",
       "      <td>0.530000</td>\n",
       "    </tr>\n",
       "    <tr>\n",
       "      <th>50%</th>\n",
       "      <td>0.760000</td>\n",
       "      <td>0.580000</td>\n",
       "    </tr>\n",
       "    <tr>\n",
       "      <th>75%</th>\n",
       "      <td>0.820000</td>\n",
       "      <td>0.670000</td>\n",
       "    </tr>\n",
       "    <tr>\n",
       "      <th>max</th>\n",
       "      <td>1.000000</td>\n",
       "      <td>0.890000</td>\n",
       "    </tr>\n",
       "  </tbody>\n",
       "</table>\n",
       "</div>"
      ],
      "text/plain": [
       "             1st%        2nd%\n",
       "count  235.000000  235.000000\n",
       "mean     0.765319    0.595702\n",
       "std      0.078005    0.104046\n",
       "min      0.500000    0.360000\n",
       "25%      0.720000    0.530000\n",
       "50%      0.760000    0.580000\n",
       "75%      0.820000    0.670000\n",
       "max      1.000000    0.890000"
      ]
     },
     "execution_count": 189,
     "metadata": {},
     "output_type": "execute_result"
    }
   ],
   "source": [
    "djoko_df[['1st%', '2nd%']].describe()"
   ]
  },
  {
   "cell_type": "code",
   "execution_count": 190,
   "metadata": {},
   "outputs": [
    {
     "data": {
      "text/plain": [
       "<AxesSubplot:>"
      ]
     },
     "execution_count": 190,
     "metadata": {},
     "output_type": "execute_result"
    },
    {
     "data": {
      "image/png": "[encoded data removed]",
      "text/plain": [
       "<Figure size 432x288 with 1 Axes>"
      ]
     },
     "metadata": {
      "needs_background": "light"
     },
     "output_type": "display_data"
    }
   ],
   "source": [
    "djoko_df[['1st%', '2nd%']].plot(kind='box')"
   ]
  },
  {
   "cell_type": "code",
   "execution_count": 191,
   "metadata": {},
   "outputs": [
    {
     "name": "stderr",
     "output_type": "stream",
     "text": [
      "<ipython-input-191-72699e74bfea>:2: SettingWithCopyWarning: \n",
      "A value is trying to be set on a copy of a slice from a DataFrame.\n",
      "Try using .loc[row_indexer,col_indexer] = value instead\n",
      "\n",
      "See the caveats in the documentation: https://pandas.pydata.org/pandas-docs/stable/user_guide/indexing.html#returning-a-view-versus-a-copy\n",
      "  df['%_difference'] = df['1st%'] - df['2nd%']\n"
     ]
    }
   ],
   "source": [
    "# Verificando se a diferença segue a gaussiana\n",
    "df['%_difference'] = df['1st%'] - df['2nd%']"
   ]
  },
  {
   "cell_type": "code",
   "execution_count": 193,
   "metadata": {},
   "outputs": [
    {
     "data": {
      "text/plain": [
       "<AxesSubplot:ylabel='Frequency'>"
      ]
     },
     "execution_count": 193,
     "metadata": {},
     "output_type": "execute_result"
    },
    {
     "data": {
      "image/png": "[encoded data removed]",
      "text/plain": [
       "<Figure size 432x288 with 1 Axes>"
      ]
     },
     "metadata": {
      "needs_background": "light"
     },
     "output_type": "display_data"
    }
   ],
   "source": [
    "df['%_difference'].plot(kind='hist')"
   ]
  },
  {
   "cell_type": "code",
   "execution_count": 197,
   "metadata": {},
   "outputs": [
    {
     "data": {
      "text/plain": [
       "ShapiroResult(statistic=0.9897833466529846, pvalue=0.09603099524974823)"
      ]
     },
     "execution_count": 197,
     "metadata": {},
     "output_type": "execute_result"
    }
   ],
   "source": [
    "# Shapiro-Wilk teste de normalidade (valor, p-value)\n",
    "stats.shapiro(df['%_difference'])"
   ]
  },
  {
   "cell_type": "code",
   "execution_count": 198,
   "metadata": {},
   "outputs": [],
   "source": [
    "#Pelo fato da nossa distribuiçao ser uma normal (pvalue = 96%)\n",
    "#então usaremos o t-test"
   ]
  },
  {
   "cell_type": "code",
   "execution_count": 199,
   "metadata": {},
   "outputs": [
    {
     "data": {
      "text/plain": [
       "Ttest_relResult(statistic=24.25011029561235, pvalue=8.768750708868794e-66)"
      ]
     },
     "execution_count": 199,
     "metadata": {},
     "output_type": "execute_result"
    }
   ],
   "source": [
    "stats.ttest_rel(df['1st%'], df['2nd%'])"
   ]
  },
  {
   "cell_type": "code",
   "execution_count": 200,
   "metadata": {},
   "outputs": [],
   "source": [
    "# A probabilidade das duas distribuições serem iguais é muito baixa (pvalue=8.768750708868794e-66)"
   ]
  },
  {
   "cell_type": "code",
   "execution_count": 201,
   "metadata": {},
   "outputs": [
    {
     "data": {
      "text/plain": [
       "<AxesSubplot:>"
      ]
     },
     "execution_count": 201,
     "metadata": {},
     "output_type": "execute_result"
    },
    {
     "data": {
      "image/png": "[encoded data removed]",
      "text/plain": [
       "<Figure size 432x288 with 1 Axes>"
      ]
     },
     "metadata": {
      "needs_background": "light"
     },
     "output_type": "display_data"
    }
   ],
   "source": [
    "#Checando simetria\n",
    "df['%_difference'].plot(kind='box')"
   ]
  },
  {
   "cell_type": "markdown",
   "metadata": {},
   "source": [
    "<h4> Rafael Nadal </h4>"
   ]
  },
  {
   "cell_type": "code",
   "execution_count": 203,
   "metadata": {},
   "outputs": [],
   "source": [
    "df = nadal_df[['1st%', '2nd%']]"
   ]
  },
  {
   "cell_type": "code",
   "execution_count": 204,
   "metadata": {},
   "outputs": [
    {
     "data": {
      "text/html": [
       "<div>\n",
       "<style scoped>\n",
       "    .dataframe tbody tr th:only-of-type {\n",
       "        vertical-align: middle;\n",
       "    }\n",
       "\n",
       "    .dataframe tbody tr th {\n",
       "        vertical-align: top;\n",
       "    }\n",
       "\n",
       "    .dataframe thead th {\n",
       "        text-align: right;\n",
       "    }\n",
       "</style>\n",
       "<table border=\"1\" class=\"dataframe\">\n",
       "  <thead>\n",
       "    <tr style=\"text-align: right;\">\n",
       "      <th></th>\n",
       "      <th>1st%</th>\n",
       "      <th>2nd%</th>\n",
       "    </tr>\n",
       "  </thead>\n",
       "  <tbody>\n",
       "    <tr>\n",
       "      <th>count</th>\n",
       "      <td>175.000000</td>\n",
       "      <td>175.000000</td>\n",
       "    </tr>\n",
       "    <tr>\n",
       "      <th>mean</th>\n",
       "      <td>0.752171</td>\n",
       "      <td>0.594800</td>\n",
       "    </tr>\n",
       "    <tr>\n",
       "      <th>std</th>\n",
       "      <td>0.080857</td>\n",
       "      <td>0.108086</td>\n",
       "    </tr>\n",
       "    <tr>\n",
       "      <th>min</th>\n",
       "      <td>0.470000</td>\n",
       "      <td>0.290000</td>\n",
       "    </tr>\n",
       "    <tr>\n",
       "      <th>25%</th>\n",
       "      <td>0.700000</td>\n",
       "      <td>0.530000</td>\n",
       "    </tr>\n",
       "    <tr>\n",
       "      <th>50%</th>\n",
       "      <td>0.760000</td>\n",
       "      <td>0.600000</td>\n",
       "    </tr>\n",
       "    <tr>\n",
       "      <th>75%</th>\n",
       "      <td>0.820000</td>\n",
       "      <td>0.670000</td>\n",
       "    </tr>\n",
       "    <tr>\n",
       "      <th>max</th>\n",
       "      <td>0.910000</td>\n",
       "      <td>0.860000</td>\n",
       "    </tr>\n",
       "  </tbody>\n",
       "</table>\n",
       "</div>"
      ],
      "text/plain": [
       "             1st%        2nd%\n",
       "count  175.000000  175.000000\n",
       "mean     0.752171    0.594800\n",
       "std      0.080857    0.108086\n",
       "min      0.470000    0.290000\n",
       "25%      0.700000    0.530000\n",
       "50%      0.760000    0.600000\n",
       "75%      0.820000    0.670000\n",
       "max      0.910000    0.860000"
      ]
     },
     "execution_count": 204,
     "metadata": {},
     "output_type": "execute_result"
    }
   ],
   "source": [
    "nadal_df[['1st%', '2nd%']].describe()"
   ]
  },
  {
   "cell_type": "code",
   "execution_count": 205,
   "metadata": {},
   "outputs": [
    {
     "data": {
      "text/plain": [
       "<AxesSubplot:>"
      ]
     },
     "execution_count": 205,
     "metadata": {},
     "output_type": "execute_result"
    },
    {
     "data": {
      "image/png": "[encoded data removed]",
      "text/plain": [
       "<Figure size 432x288 with 1 Axes>"
      ]
     },
     "metadata": {
      "needs_background": "light"
     },
     "output_type": "display_data"
    }
   ],
   "source": [
    "nadal_df[['1st%', '2nd%']].plot(kind='box')"
   ]
  },
  {
   "cell_type": "code",
   "execution_count": 206,
   "metadata": {},
   "outputs": [
    {
     "name": "stderr",
     "output_type": "stream",
     "text": [
      "<ipython-input-206-72699e74bfea>:2: SettingWithCopyWarning: \n",
      "A value is trying to be set on a copy of a slice from a DataFrame.\n",
      "Try using .loc[row_indexer,col_indexer] = value instead\n",
      "\n",
      "See the caveats in the documentation: https://pandas.pydata.org/pandas-docs/stable/user_guide/indexing.html#returning-a-view-versus-a-copy\n",
      "  df['%_difference'] = df['1st%'] - df['2nd%']\n"
     ]
    }
   ],
   "source": [
    "# Verificando se a diferença segue a gaussiana\n",
    "df['%_difference'] = df['1st%'] - df['2nd%']"
   ]
  },
  {
   "cell_type": "code",
   "execution_count": 207,
   "metadata": {},
   "outputs": [
    {
     "data": {
      "text/plain": [
       "<AxesSubplot:ylabel='Frequency'>"
      ]
     },
     "execution_count": 207,
     "metadata": {},
     "output_type": "execute_result"
    },
    {
     "data": {
      "image/png": "[encoded data removed]",
      "text/plain": [
       "<Figure size 432x288 with 1 Axes>"
      ]
     },
     "metadata": {
      "needs_background": "light"
     },
     "output_type": "display_data"
    }
   ],
   "source": [
    "df['%_difference'].plot(kind='hist')"
   ]
  },
  {
   "cell_type": "code",
   "execution_count": 208,
   "metadata": {},
   "outputs": [
    {
     "data": {
      "text/plain": [
       "ShapiroResult(statistic=0.9958450198173523, pvalue=0.9127158522605896)"
      ]
     },
     "execution_count": 208,
     "metadata": {},
     "output_type": "execute_result"
    }
   ],
   "source": [
    "# Shapiro-Wilk teste de normalidade (valor, p-value)\n",
    "stats.shapiro(df['%_difference'])"
   ]
  },
  {
   "cell_type": "code",
   "execution_count": 209,
   "metadata": {},
   "outputs": [],
   "source": [
    "#Pelo fato da nossa distribuiçao ser uma normal (pvalue = 91%)\n",
    "#então usaremos o t-test"
   ]
  },
  {
   "cell_type": "code",
   "execution_count": 210,
   "metadata": {},
   "outputs": [
    {
     "data": {
      "text/plain": [
       "Ttest_relResult(statistic=17.425269735765823, pvalue=5.297025143804393e-40)"
      ]
     },
     "execution_count": 210,
     "metadata": {},
     "output_type": "execute_result"
    }
   ],
   "source": [
    "stats.ttest_rel(df['1st%'], df['2nd%'])"
   ]
  },
  {
   "cell_type": "code",
   "execution_count": 212,
   "metadata": {},
   "outputs": [],
   "source": [
    "# A probabilidade das duas distribuições serem iguais é muito baixa (pvalue=5.297025143804393e-40)"
   ]
  },
  {
   "cell_type": "code",
   "execution_count": 213,
   "metadata": {},
   "outputs": [
    {
     "data": {
      "text/plain": [
       "<AxesSubplot:>"
      ]
     },
     "execution_count": 213,
     "metadata": {},
     "output_type": "execute_result"
    },
    {
     "data": {
      "image/png": "[encoded data removed]",
      "text/plain": [
       "<Figure size 432x288 with 1 Axes>"
      ]
     },
     "metadata": {
      "needs_background": "light"
     },
     "output_type": "display_data"
    }
   ],
   "source": [
    "#Checando simetria\n",
    "df['%_difference'].plot(kind='box')"
   ]
  },
  {
   "cell_type": "code",
   "execution_count": 214,
   "metadata": {},
   "outputs": [],
   "source": [
    "df = federer_df[['1st%', '2nd%']]"
   ]
  },
  {
   "cell_type": "code",
   "execution_count": 215,
   "metadata": {},
   "outputs": [
    {
     "data": {
      "text/html": [
       "<div>\n",
       "<style scoped>\n",
       "    .dataframe tbody tr th:only-of-type {\n",
       "        vertical-align: middle;\n",
       "    }\n",
       "\n",
       "    .dataframe tbody tr th {\n",
       "        vertical-align: top;\n",
       "    }\n",
       "\n",
       "    .dataframe thead th {\n",
       "        text-align: right;\n",
       "    }\n",
       "</style>\n",
       "<table border=\"1\" class=\"dataframe\">\n",
       "  <thead>\n",
       "    <tr style=\"text-align: right;\">\n",
       "      <th></th>\n",
       "      <th>1st%</th>\n",
       "      <th>2nd%</th>\n",
       "    </tr>\n",
       "  </thead>\n",
       "  <tbody>\n",
       "    <tr>\n",
       "      <th>count</th>\n",
       "      <td>173.000000</td>\n",
       "      <td>173.000000</td>\n",
       "    </tr>\n",
       "    <tr>\n",
       "      <th>mean</th>\n",
       "      <td>0.797283</td>\n",
       "      <td>0.595260</td>\n",
       "    </tr>\n",
       "    <tr>\n",
       "      <th>std</th>\n",
       "      <td>0.073794</td>\n",
       "      <td>0.100837</td>\n",
       "    </tr>\n",
       "    <tr>\n",
       "      <th>min</th>\n",
       "      <td>0.560000</td>\n",
       "      <td>0.330000</td>\n",
       "    </tr>\n",
       "    <tr>\n",
       "      <th>25%</th>\n",
       "      <td>0.750000</td>\n",
       "      <td>0.520000</td>\n",
       "    </tr>\n",
       "    <tr>\n",
       "      <th>50%</th>\n",
       "      <td>0.800000</td>\n",
       "      <td>0.580000</td>\n",
       "    </tr>\n",
       "    <tr>\n",
       "      <th>75%</th>\n",
       "      <td>0.840000</td>\n",
       "      <td>0.670000</td>\n",
       "    </tr>\n",
       "    <tr>\n",
       "      <th>max</th>\n",
       "      <td>0.950000</td>\n",
       "      <td>0.820000</td>\n",
       "    </tr>\n",
       "  </tbody>\n",
       "</table>\n",
       "</div>"
      ],
      "text/plain": [
       "             1st%        2nd%\n",
       "count  173.000000  173.000000\n",
       "mean     0.797283    0.595260\n",
       "std      0.073794    0.100837\n",
       "min      0.560000    0.330000\n",
       "25%      0.750000    0.520000\n",
       "50%      0.800000    0.580000\n",
       "75%      0.840000    0.670000\n",
       "max      0.950000    0.820000"
      ]
     },
     "execution_count": 215,
     "metadata": {},
     "output_type": "execute_result"
    }
   ],
   "source": [
    "federer_df[['1st%', '2nd%']].describe()"
   ]
  },
  {
   "cell_type": "code",
   "execution_count": 221,
   "metadata": {},
   "outputs": [
    {
     "data": {
      "text/plain": [
       "<AxesSubplot:>"
      ]
     },
     "execution_count": 221,
     "metadata": {},
     "output_type": "execute_result"
    },
    {
     "data": {
      "image/png": "[encoded data removed]",
      "text/plain": [
       "<Figure size 432x288 with 1 Axes>"
      ]
     },
     "metadata": {
      "needs_background": "light"
     },
     "output_type": "display_data"
    }
   ],
   "source": [
    "federer_df[['1st%', '2nd%']].plot(kind='box')"
   ]
  },
  {
   "cell_type": "code",
   "execution_count": 222,
   "metadata": {},
   "outputs": [
    {
     "name": "stderr",
     "output_type": "stream",
     "text": [
      "<ipython-input-222-72699e74bfea>:2: SettingWithCopyWarning: \n",
      "A value is trying to be set on a copy of a slice from a DataFrame.\n",
      "Try using .loc[row_indexer,col_indexer] = value instead\n",
      "\n",
      "See the caveats in the documentation: https://pandas.pydata.org/pandas-docs/stable/user_guide/indexing.html#returning-a-view-versus-a-copy\n",
      "  df['%_difference'] = df['1st%'] - df['2nd%']\n"
     ]
    }
   ],
   "source": [
    "# Verificando se a diferença segue a gaussiana\n",
    "df['%_difference'] = df['1st%'] - df['2nd%']"
   ]
  },
  {
   "cell_type": "code",
   "execution_count": 223,
   "metadata": {},
   "outputs": [
    {
     "data": {
      "text/plain": [
       "<AxesSubplot:ylabel='Frequency'>"
      ]
     },
     "execution_count": 223,
     "metadata": {},
     "output_type": "execute_result"
    },
    {
     "data": {
      "image/png": "[encoded data removed]",
      "text/plain": [
       "<Figure size 432x288 with 1 Axes>"
      ]
     },
     "metadata": {
      "needs_background": "light"
     },
     "output_type": "display_data"
    }
   ],
   "source": [
    "df['%_difference'].plot(kind='hist')"
   ]
  },
  {
   "cell_type": "code",
   "execution_count": 224,
   "metadata": {},
   "outputs": [
    {
     "data": {
      "text/plain": [
       "ShapiroResult(statistic=0.9889417886734009, pvalue=0.19598203897476196)"
      ]
     },
     "execution_count": 224,
     "metadata": {},
     "output_type": "execute_result"
    }
   ],
   "source": [
    "# Shapiro-Wilk teste de normalidade (valor, p-value)\n",
    "stats.shapiro(df['%_difference'])"
   ]
  },
  {
   "cell_type": "code",
   "execution_count": 225,
   "metadata": {},
   "outputs": [],
   "source": [
    "#Pelo fato da nossa distribuiçao não ser uma normal (pvalue = 19%)\n",
    "#então usaremos o wilcoxon-test"
   ]
  },
  {
   "cell_type": "code",
   "execution_count": 226,
   "metadata": {},
   "outputs": [
    {
     "data": {
      "text/plain": [
       "WilcoxonResult(statistic=0.0, pvalue=5.5626469609210245e-30)"
      ]
     },
     "execution_count": 226,
     "metadata": {},
     "output_type": "execute_result"
    }
   ],
   "source": [
    "stats.wilcoxon(df['1st%'], df['2nd%'])"
   ]
  },
  {
   "cell_type": "code",
   "execution_count": 227,
   "metadata": {},
   "outputs": [],
   "source": [
    "# A probabilidade das duas distribuições serem iguais é muito baixa (pvalue=5.5626469609210245e-30)"
   ]
  },
  {
   "cell_type": "code",
   "execution_count": 228,
   "metadata": {},
   "outputs": [
    {
     "data": {
      "text/plain": [
       "<AxesSubplot:>"
      ]
     },
     "execution_count": 228,
     "metadata": {},
     "output_type": "execute_result"
    },
    {
     "data": {
      "image/png": "[encoded data removed]",
      "text/plain": [
       "<Figure size 432x288 with 1 Axes>"
      ]
     },
     "metadata": {
      "needs_background": "light"
     },
     "output_type": "display_data"
    }
   ],
   "source": [
    "#Checando simetria\n",
    "df['%_difference'].plot(kind='box')"
   ]
  }
 ],
 "metadata": {
  "kernelspec": {
   "display_name": "Python 3",
   "language": "python",
   "name": "python3"
  },
  "language_info": {
   "codemirror_mode": {
    "name": "ipython",
    "version": 3
   },
   "file_extension": ".py",
   "mimetype": "text/x-python",
   "name": "python",
   "nbconvert_exporter": "python",
   "pygments_lexer": "ipython3",
   "version": "3.8.5"
  }
 },
 "nbformat": 4,
 "nbformat_minor": 4
}
